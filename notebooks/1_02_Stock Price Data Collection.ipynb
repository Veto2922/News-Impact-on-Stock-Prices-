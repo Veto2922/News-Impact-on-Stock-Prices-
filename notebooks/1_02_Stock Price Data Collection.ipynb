{
 "cells": [
  {
   "cell_type": "code",
   "execution_count": 1,
   "metadata": {},
   "outputs": [],
   "source": [
    "COMPANIES_NEWS_PATH =  r'D:\\Projects\\Quantum Bits\\News-Impact-on-Stock-Prices-\\Project_data\\output\\campanies_news.csv'\n",
    "FINAL_DATA_PATH =  r'D:\\Projects\\Quantum Bits\\News-Impact-on-Stock-Prices-\\Project_data\\output\\final_data.csv'\n"
   ]
  },
  {
   "cell_type": "code",
   "execution_count": 2,
   "metadata": {},
   "outputs": [],
   "source": [
    "import yfinance as yf\n",
    "import pandas as pd\n",
    "import re"
   ]
  },
  {
   "cell_type": "markdown",
   "metadata": {},
   "source": [
    "# FUNCTIONS"
   ]
  },
  {
   "cell_type": "code",
   "execution_count": 3,
   "metadata": {},
   "outputs": [],
   "source": [
    "def fetch_stock_data(tickers: list, start_date: str, end_date: str) -> pd.DataFrame:\n",
    "    \"\"\"\n",
    "    Fetches historical stock price data for a list of tickers within a date range.\n",
    "\n",
    "    Args:\n",
    "    tickers (list): A list of stock ticker symbols (e.g., ['AAPL', 'GOOGL']).\n",
    "    start_date (str): Start date in 'YYYY-MM-DD' format.\n",
    "    end_date (str): End date in 'YYYY-MM-DD' format.\n",
    "\n",
    "    Returns:\n",
    "    pd.DataFrame: A DataFrame containing the stock's historical prices for each ticker.\n",
    "    \"\"\"\n",
    "    # Initialize an empty DataFrame to hold the results\n",
    "    all_data = pd.DataFrame()\n",
    "\n",
    "    # Loop through each ticker to fetch and store its data\n",
    "    for ticker in tickers:\n",
    "        stock = yf.Ticker(ticker)\n",
    "        stock_data = stock.history(start=start_date, end=end_date)\n",
    "        stock_data['Ticker'] = ticker  # Add a column to identify the ticker\n",
    "        stock_data.reset_index(inplace=True)\n",
    "        \n",
    "        # Append the data to the all_data DataFrame\n",
    "        all_data = pd.concat([all_data, stock_data[['Date', 'Ticker', 'Close']]], ignore_index=True)\n",
    "\n",
    "    return all_data"
   ]
  },
  {
   "cell_type": "code",
   "execution_count": 4,
   "metadata": {},
   "outputs": [],
   "source": [
    "\n",
    "def merge_news_with_stock(news_df: pd.DataFrame, stock_df: pd.DataFrame) -> pd.DataFrame:\n",
    "    \"\"\"\n",
    "    Merges the news DataFrame with stock prices DataFrame based on Date and Ticker.\n",
    "    Calculates the stock price change around the news publication.\n",
    "\n",
    "    Args:\n",
    "    news_df (pd.DataFrame): DataFrame containing news data with 'Ticker', 'Date', and 'Headline'.\n",
    "    stock_df (pd.DataFrame): DataFrame containing stock prices with 'Date', 'Ticker', and 'Close'.\n",
    "\n",
    "    Returns:\n",
    "    pd.DataFrame: Merged DataFrame with price changes.\n",
    "    \"\"\"\n",
    "    # Convert the Date columns to datetime in both DataFrames\n",
    "    news_df['Date'] = pd.to_datetime(news_df['Date'])\n",
    "    stock_df['Date'] = pd.to_datetime(stock_df['Date'])\n",
    "    \n",
    "    stock_df['Date'] = stock_df['Date'].dt.tz_localize(None)\n",
    "\n",
    "    # Group the news data by Ticker and Date, concatenating headlines\n",
    "    grouped_news_df = news_df.groupby(['Ticker', 'Date'])['Headline'].apply(lambda x: ' , '.join(x)).reset_index()\n",
    "\n",
    "    # Merge the grouped news data with stock prices on Date and Ticker\n",
    "    merged_df = pd.merge(grouped_news_df, stock_df, how='left', on=['Date', 'Ticker'])\n",
    "\n",
    "    # Shift the stock_df by one day to get the previous day's stock price\n",
    "    stock_df_shifted = stock_df.copy()\n",
    "    stock_df_shifted['Date'] = stock_df_shifted['Date'] + pd.Timedelta(days=1)\n",
    "\n",
    "    # Merge the shifted stock prices to get the previous day's closing price\n",
    "    merged_df = pd.merge(merged_df, stock_df_shifted[['Date', 'Ticker', 'Close']], \n",
    "                         how='left', on=['Date', 'Ticker'], suffixes=('', '_prev_day'))\n",
    "\n",
    "    # Calculate the price change (current day's close - previous day's close)\n",
    "    merged_df['Price_Change'] = merged_df['Close'] - merged_df['Close_prev_day']\n",
    "\n",
    "    # Assign labels based on price change\n",
    "    merged_df['Label'] = merged_df['Price_Change'].apply(lambda x: 1 if x > 0 else -1)\n",
    "\n",
    "    # Drop the previous day close column as it's no longer needed\n",
    "    merged_df.drop(columns=['Close_prev_day'], inplace=True)\n",
    "\n",
    "    return merged_df\n"
   ]
  },
  {
   "cell_type": "markdown",
   "metadata": {},
   "source": [
    "# load the Data"
   ]
  },
  {
   "cell_type": "code",
   "execution_count": 6,
   "metadata": {},
   "outputs": [
    {
     "data": {
      "text/html": [
       "<div>\n",
       "<style scoped>\n",
       "    .dataframe tbody tr th:only-of-type {\n",
       "        vertical-align: middle;\n",
       "    }\n",
       "\n",
       "    .dataframe tbody tr th {\n",
       "        vertical-align: top;\n",
       "    }\n",
       "\n",
       "    .dataframe thead th {\n",
       "        text-align: right;\n",
       "    }\n",
       "</style>\n",
       "<table border=\"1\" class=\"dataframe\">\n",
       "  <thead>\n",
       "    <tr style=\"text-align: right;\">\n",
       "      <th></th>\n",
       "      <th>Ticker</th>\n",
       "      <th>Date</th>\n",
       "      <th>Time</th>\n",
       "      <th>Headline</th>\n",
       "    </tr>\n",
       "  </thead>\n",
       "  <tbody>\n",
       "    <tr>\n",
       "      <th>0</th>\n",
       "      <td>DELL</td>\n",
       "      <td>Sep-01-24</td>\n",
       "      <td>10:49PM</td>\n",
       "      <td>dell technologies inc dell an undervalued tech...</td>\n",
       "    </tr>\n",
       "    <tr>\n",
       "      <th>1</th>\n",
       "      <td>DELL</td>\n",
       "      <td>Sep-01-24</td>\n",
       "      <td>10:30AM</td>\n",
       "      <td>dell technologies inc dell this ai stock is tr...</td>\n",
       "    </tr>\n",
       "    <tr>\n",
       "      <th>2</th>\n",
       "      <td>DELL</td>\n",
       "      <td>Aug-30-24</td>\n",
       "      <td>04:40PM</td>\n",
       "      <td>these stocks moved the most today intel super ...</td>\n",
       "    </tr>\n",
       "    <tr>\n",
       "      <th>3</th>\n",
       "      <td>DELL</td>\n",
       "      <td>Aug-30-24</td>\n",
       "      <td>04:36PM</td>\n",
       "      <td>heard on the street dell shows ai isnt a loss ...</td>\n",
       "    </tr>\n",
       "    <tr>\n",
       "      <th>4</th>\n",
       "      <td>DELL</td>\n",
       "      <td>Aug-30-24</td>\n",
       "      <td>04:17PM</td>\n",
       "      <td>ai computer sales fuel dells betterthanexpecte...</td>\n",
       "    </tr>\n",
       "    <tr>\n",
       "      <th>...</th>\n",
       "      <td>...</td>\n",
       "      <td>...</td>\n",
       "      <td>...</td>\n",
       "      <td>...</td>\n",
       "    </tr>\n",
       "    <tr>\n",
       "      <th>1295</th>\n",
       "      <td>ORCL</td>\n",
       "      <td>Jul-17-24</td>\n",
       "      <td>09:59AM</td>\n",
       "      <td>oracle orcl cloud enhances ackermans retail pl...</td>\n",
       "    </tr>\n",
       "    <tr>\n",
       "      <th>1296</th>\n",
       "      <td>ORCL</td>\n",
       "      <td>Jul-16-24</td>\n",
       "      <td>11:13AM</td>\n",
       "      <td>3 machine learning stocks that could grow your...</td>\n",
       "    </tr>\n",
       "    <tr>\n",
       "      <th>1297</th>\n",
       "      <td>ORCL</td>\n",
       "      <td>Jul-16-24</td>\n",
       "      <td>09:00AM</td>\n",
       "      <td>oracle corporation orcl is attracting investor...</td>\n",
       "    </tr>\n",
       "    <tr>\n",
       "      <th>1298</th>\n",
       "      <td>ORCL</td>\n",
       "      <td>Jul-16-24</td>\n",
       "      <td>05:40AM</td>\n",
       "      <td>analyst says these 10 ai stocks have more upsi...</td>\n",
       "    </tr>\n",
       "    <tr>\n",
       "      <th>1299</th>\n",
       "      <td>ORCL</td>\n",
       "      <td>Jul-15-24</td>\n",
       "      <td>05:56PM</td>\n",
       "      <td>trump picks jd vance for vp big bank earnings ...</td>\n",
       "    </tr>\n",
       "  </tbody>\n",
       "</table>\n",
       "<p>1300 rows × 4 columns</p>\n",
       "</div>"
      ],
      "text/plain": [
       "     Ticker       Date     Time  \\\n",
       "0      DELL  Sep-01-24  10:49PM   \n",
       "1      DELL  Sep-01-24  10:30AM   \n",
       "2      DELL  Aug-30-24  04:40PM   \n",
       "3      DELL  Aug-30-24  04:36PM   \n",
       "4      DELL  Aug-30-24  04:17PM   \n",
       "...     ...        ...      ...   \n",
       "1295   ORCL  Jul-17-24  09:59AM   \n",
       "1296   ORCL  Jul-16-24  11:13AM   \n",
       "1297   ORCL  Jul-16-24  09:00AM   \n",
       "1298   ORCL  Jul-16-24  05:40AM   \n",
       "1299   ORCL  Jul-15-24  05:56PM   \n",
       "\n",
       "                                               Headline  \n",
       "0     dell technologies inc dell an undervalued tech...  \n",
       "1     dell technologies inc dell this ai stock is tr...  \n",
       "2     these stocks moved the most today intel super ...  \n",
       "3     heard on the street dell shows ai isnt a loss ...  \n",
       "4     ai computer sales fuel dells betterthanexpecte...  \n",
       "...                                                 ...  \n",
       "1295  oracle orcl cloud enhances ackermans retail pl...  \n",
       "1296  3 machine learning stocks that could grow your...  \n",
       "1297  oracle corporation orcl is attracting investor...  \n",
       "1298  analyst says these 10 ai stocks have more upsi...  \n",
       "1299  trump picks jd vance for vp big bank earnings ...  \n",
       "\n",
       "[1300 rows x 4 columns]"
      ]
     },
     "execution_count": 6,
     "metadata": {},
     "output_type": "execute_result"
    }
   ],
   "source": [
    "df = pd.read_csv(COMPANIES_NEWS_PATH)\n",
    "df"
   ]
  },
  {
   "cell_type": "code",
   "execution_count": 7,
   "metadata": {},
   "outputs": [
    {
     "name": "stderr",
     "output_type": "stream",
     "text": [
      "C:\\Users\\DELL\\AppData\\Local\\Temp\\ipykernel_4316\\1191818204.py:1: UserWarning: Could not infer format, so each element will be parsed individually, falling back to `dateutil`. To ensure parsing is consistent and as-expected, please specify a format.\n",
      "  df['Date'] =  pd.to_datetime( df['Date'])\n"
     ]
    }
   ],
   "source": [
    "df['Date'] =  pd.to_datetime( df['Date'])"
   ]
  },
  {
   "cell_type": "markdown",
   "metadata": {},
   "source": [
    "## Get time interval"
   ]
  },
  {
   "cell_type": "code",
   "execution_count": 8,
   "metadata": {},
   "outputs": [
    {
     "data": {
      "text/plain": [
       "(Timestamp('2024-07-15 00:00:00'), Timestamp('2024-09-01 00:00:00'))"
      ]
     },
     "execution_count": 8,
     "metadata": {},
     "output_type": "execute_result"
    }
   ],
   "source": [
    "df['Date'].min() , df['Date'].max() "
   ]
  },
  {
   "cell_type": "markdown",
   "metadata": {},
   "source": [
    "# Get stock data"
   ]
  },
  {
   "cell_type": "code",
   "execution_count": 9,
   "metadata": {},
   "outputs": [
    {
     "data": {
      "text/html": [
       "<div>\n",
       "<style scoped>\n",
       "    .dataframe tbody tr th:only-of-type {\n",
       "        vertical-align: middle;\n",
       "    }\n",
       "\n",
       "    .dataframe tbody tr th {\n",
       "        vertical-align: top;\n",
       "    }\n",
       "\n",
       "    .dataframe thead th {\n",
       "        text-align: right;\n",
       "    }\n",
       "</style>\n",
       "<table border=\"1\" class=\"dataframe\">\n",
       "  <thead>\n",
       "    <tr style=\"text-align: right;\">\n",
       "      <th></th>\n",
       "      <th>Date</th>\n",
       "      <th>Ticker</th>\n",
       "      <th>Close</th>\n",
       "    </tr>\n",
       "  </thead>\n",
       "  <tbody>\n",
       "    <tr>\n",
       "      <th>0</th>\n",
       "      <td>2024-07-15 00:00:00-04:00</td>\n",
       "      <td>DELL</td>\n",
       "      <td>136.745682</td>\n",
       "    </tr>\n",
       "    <tr>\n",
       "      <th>1</th>\n",
       "      <td>2024-07-16 00:00:00-04:00</td>\n",
       "      <td>DELL</td>\n",
       "      <td>133.795914</td>\n",
       "    </tr>\n",
       "    <tr>\n",
       "      <th>2</th>\n",
       "      <td>2024-07-17 00:00:00-04:00</td>\n",
       "      <td>DELL</td>\n",
       "      <td>124.737335</td>\n",
       "    </tr>\n",
       "    <tr>\n",
       "      <th>3</th>\n",
       "      <td>2024-07-18 00:00:00-04:00</td>\n",
       "      <td>DELL</td>\n",
       "      <td>124.906746</td>\n",
       "    </tr>\n",
       "    <tr>\n",
       "      <th>4</th>\n",
       "      <td>2024-07-19 00:00:00-04:00</td>\n",
       "      <td>DELL</td>\n",
       "      <td>125.355194</td>\n",
       "    </tr>\n",
       "    <tr>\n",
       "      <th>...</th>\n",
       "      <td>...</td>\n",
       "      <td>...</td>\n",
       "      <td>...</td>\n",
       "    </tr>\n",
       "    <tr>\n",
       "      <th>450</th>\n",
       "      <td>2024-08-26 00:00:00-04:00</td>\n",
       "      <td>ORCL</td>\n",
       "      <td>138.899994</td>\n",
       "    </tr>\n",
       "    <tr>\n",
       "      <th>451</th>\n",
       "      <td>2024-08-27 00:00:00-04:00</td>\n",
       "      <td>ORCL</td>\n",
       "      <td>138.479996</td>\n",
       "    </tr>\n",
       "    <tr>\n",
       "      <th>452</th>\n",
       "      <td>2024-08-28 00:00:00-04:00</td>\n",
       "      <td>ORCL</td>\n",
       "      <td>137.880005</td>\n",
       "    </tr>\n",
       "    <tr>\n",
       "      <th>453</th>\n",
       "      <td>2024-08-29 00:00:00-04:00</td>\n",
       "      <td>ORCL</td>\n",
       "      <td>139.419998</td>\n",
       "    </tr>\n",
       "    <tr>\n",
       "      <th>454</th>\n",
       "      <td>2024-08-30 00:00:00-04:00</td>\n",
       "      <td>ORCL</td>\n",
       "      <td>141.289993</td>\n",
       "    </tr>\n",
       "  </tbody>\n",
       "</table>\n",
       "<p>455 rows × 3 columns</p>\n",
       "</div>"
      ],
      "text/plain": [
       "                         Date Ticker       Close\n",
       "0   2024-07-15 00:00:00-04:00   DELL  136.745682\n",
       "1   2024-07-16 00:00:00-04:00   DELL  133.795914\n",
       "2   2024-07-17 00:00:00-04:00   DELL  124.737335\n",
       "3   2024-07-18 00:00:00-04:00   DELL  124.906746\n",
       "4   2024-07-19 00:00:00-04:00   DELL  125.355194\n",
       "..                        ...    ...         ...\n",
       "450 2024-08-26 00:00:00-04:00   ORCL  138.899994\n",
       "451 2024-08-27 00:00:00-04:00   ORCL  138.479996\n",
       "452 2024-08-28 00:00:00-04:00   ORCL  137.880005\n",
       "453 2024-08-29 00:00:00-04:00   ORCL  139.419998\n",
       "454 2024-08-30 00:00:00-04:00   ORCL  141.289993\n",
       "\n",
       "[455 rows x 3 columns]"
      ]
     },
     "execution_count": 9,
     "metadata": {},
     "output_type": "execute_result"
    }
   ],
   "source": [
    "\n",
    "tickers = df['Ticker'].unique().tolist()\n",
    "stock_data = fetch_stock_data(tickers, df['Date'].min(), df['Date'].max())\n",
    "stock_data "
   ]
  },
  {
   "cell_type": "code",
   "execution_count": 10,
   "metadata": {},
   "outputs": [],
   "source": [
    "# stock_data[stock_data['Ticker'] == 'DELL']"
   ]
  },
  {
   "cell_type": "code",
   "execution_count": 11,
   "metadata": {},
   "outputs": [
    {
     "data": {
      "text/plain": [
       "Ticker\n",
       "DELL     35\n",
       "AMZN     35\n",
       "META     35\n",
       "NVDA     35\n",
       "AAPL     35\n",
       "GOOGL    35\n",
       "MSFT     35\n",
       "TSLA     35\n",
       "NFLX     35\n",
       "INTC     35\n",
       "AMD      35\n",
       "BABA     35\n",
       "ORCL     35\n",
       "Name: count, dtype: int64"
      ]
     },
     "execution_count": 11,
     "metadata": {},
     "output_type": "execute_result"
    }
   ],
   "source": [
    "stock_data['Ticker'].value_counts()"
   ]
  },
  {
   "cell_type": "markdown",
   "metadata": {},
   "source": [
    "### Because the official holidays in America are Saturday and Sunday, there are no records of stock prices on these days."
   ]
  },
  {
   "cell_type": "markdown",
   "metadata": {},
   "source": [
    "# Merges the news DataFrame with stock prices DataFrame"
   ]
  },
  {
   "cell_type": "code",
   "execution_count": 12,
   "metadata": {},
   "outputs": [],
   "source": [
    "final_df = merge_news_with_stock(df, stock_data)\n"
   ]
  },
  {
   "cell_type": "code",
   "execution_count": 13,
   "metadata": {},
   "outputs": [
    {
     "data": {
      "text/plain": [
       "Ticker           0\n",
       "Date             0\n",
       "Headline         0\n",
       "Close           34\n",
       "Price_Change    59\n",
       "Label            0\n",
       "dtype: int64"
      ]
     },
     "execution_count": 13,
     "metadata": {},
     "output_type": "execute_result"
    }
   ],
   "source": [
    "final_df.isna().sum()"
   ]
  },
  {
   "cell_type": "markdown",
   "metadata": {},
   "source": [
    "because we shifted data by day and also there is some holidays without stock prices,, so these days will be NA and will affect in the next step so will remove them"
   ]
  },
  {
   "cell_type": "code",
   "execution_count": 14,
   "metadata": {},
   "outputs": [],
   "source": [
    "final_df.dropna(inplace=True )"
   ]
  },
  {
   "cell_type": "code",
   "execution_count": 15,
   "metadata": {},
   "outputs": [
    {
     "data": {
      "text/plain": [
       "Label\n",
       " 1    63\n",
       "-1    50\n",
       "Name: count, dtype: int64"
      ]
     },
     "execution_count": 15,
     "metadata": {},
     "output_type": "execute_result"
    }
   ],
   "source": [
    "final_df['Label'].value_counts()"
   ]
  },
  {
   "cell_type": "code",
   "execution_count": 17,
   "metadata": {},
   "outputs": [
    {
     "data": {
      "text/html": [
       "<div>\n",
       "<style scoped>\n",
       "    .dataframe tbody tr th:only-of-type {\n",
       "        vertical-align: middle;\n",
       "    }\n",
       "\n",
       "    .dataframe tbody tr th {\n",
       "        vertical-align: top;\n",
       "    }\n",
       "\n",
       "    .dataframe thead th {\n",
       "        text-align: right;\n",
       "    }\n",
       "</style>\n",
       "<table border=\"1\" class=\"dataframe\">\n",
       "  <thead>\n",
       "    <tr style=\"text-align: right;\">\n",
       "      <th></th>\n",
       "      <th>Ticker</th>\n",
       "      <th>Date</th>\n",
       "      <th>Headline</th>\n",
       "      <th>Close</th>\n",
       "      <th>Price_Change</th>\n",
       "      <th>Label</th>\n",
       "    </tr>\n",
       "  </thead>\n",
       "  <tbody>\n",
       "    <tr>\n",
       "      <th>0</th>\n",
       "      <td>AAPL</td>\n",
       "      <td>2024-08-28</td>\n",
       "      <td>apple becomes indias largest bluecollar job cr...</td>\n",
       "      <td>226.490005</td>\n",
       "      <td>-1.539993</td>\n",
       "      <td>-1</td>\n",
       "    </tr>\n",
       "    <tr>\n",
       "      <th>1</th>\n",
       "      <td>AAPL</td>\n",
       "      <td>2024-08-29</td>\n",
       "      <td>ipad mini 7 rumored for september launch as cu...</td>\n",
       "      <td>229.789993</td>\n",
       "      <td>3.299988</td>\n",
       "      <td>1</td>\n",
       "    </tr>\n",
       "    <tr>\n",
       "      <th>2</th>\n",
       "      <td>AAPL</td>\n",
       "      <td>2024-08-30</td>\n",
       "      <td>vertex pharmaceutical inc vrtx jim cramers got...</td>\n",
       "      <td>229.000000</td>\n",
       "      <td>-0.789993</td>\n",
       "      <td>-1</td>\n",
       "    </tr>\n",
       "    <tr>\n",
       "      <th>5</th>\n",
       "      <td>AMD</td>\n",
       "      <td>2024-08-20</td>\n",
       "      <td>broadcom inc avgo a tech stock to monitor amid...</td>\n",
       "      <td>156.399994</td>\n",
       "      <td>1.119995</td>\n",
       "      <td>1</td>\n",
       "    </tr>\n",
       "    <tr>\n",
       "      <th>6</th>\n",
       "      <td>AMD</td>\n",
       "      <td>2024-08-21</td>\n",
       "      <td>jim cramer on advanced micro devices inc amds ...</td>\n",
       "      <td>157.809998</td>\n",
       "      <td>1.410004</td>\n",
       "      <td>1</td>\n",
       "    </tr>\n",
       "    <tr>\n",
       "      <th>...</th>\n",
       "      <td>...</td>\n",
       "      <td>...</td>\n",
       "      <td>...</td>\n",
       "      <td>...</td>\n",
       "      <td>...</td>\n",
       "      <td>...</td>\n",
       "    </tr>\n",
       "    <tr>\n",
       "      <th>165</th>\n",
       "      <td>ORCL</td>\n",
       "      <td>2024-08-30</td>\n",
       "      <td>final trades lennar oracle and seagate , exclu...</td>\n",
       "      <td>141.289993</td>\n",
       "      <td>1.869995</td>\n",
       "      <td>1</td>\n",
       "    </tr>\n",
       "    <tr>\n",
       "      <th>167</th>\n",
       "      <td>TSLA</td>\n",
       "      <td>2024-08-27</td>\n",
       "      <td>hmgs us ev sales rank second behind tesla tops...</td>\n",
       "      <td>209.210007</td>\n",
       "      <td>-4.000000</td>\n",
       "      <td>-1</td>\n",
       "    </tr>\n",
       "    <tr>\n",
       "      <th>168</th>\n",
       "      <td>TSLA</td>\n",
       "      <td>2024-08-28</td>\n",
       "      <td>your unrealized gains are safe from bidenharri...</td>\n",
       "      <td>205.750000</td>\n",
       "      <td>-3.460007</td>\n",
       "      <td>-1</td>\n",
       "    </tr>\n",
       "    <tr>\n",
       "      <th>169</th>\n",
       "      <td>TSLA</td>\n",
       "      <td>2024-08-29</td>\n",
       "      <td>10 best car subscription services in usa , elo...</td>\n",
       "      <td>206.279999</td>\n",
       "      <td>0.529999</td>\n",
       "      <td>1</td>\n",
       "    </tr>\n",
       "    <tr>\n",
       "      <th>170</th>\n",
       "      <td>TSLA</td>\n",
       "      <td>2024-08-30</td>\n",
       "      <td>tesla stock ended a bad week with a good day d...</td>\n",
       "      <td>214.110001</td>\n",
       "      <td>7.830002</td>\n",
       "      <td>1</td>\n",
       "    </tr>\n",
       "  </tbody>\n",
       "</table>\n",
       "<p>113 rows × 6 columns</p>\n",
       "</div>"
      ],
      "text/plain": [
       "    Ticker       Date                                           Headline  \\\n",
       "0     AAPL 2024-08-28  apple becomes indias largest bluecollar job cr...   \n",
       "1     AAPL 2024-08-29  ipad mini 7 rumored for september launch as cu...   \n",
       "2     AAPL 2024-08-30  vertex pharmaceutical inc vrtx jim cramers got...   \n",
       "5      AMD 2024-08-20  broadcom inc avgo a tech stock to monitor amid...   \n",
       "6      AMD 2024-08-21  jim cramer on advanced micro devices inc amds ...   \n",
       "..     ...        ...                                                ...   \n",
       "165   ORCL 2024-08-30  final trades lennar oracle and seagate , exclu...   \n",
       "167   TSLA 2024-08-27  hmgs us ev sales rank second behind tesla tops...   \n",
       "168   TSLA 2024-08-28  your unrealized gains are safe from bidenharri...   \n",
       "169   TSLA 2024-08-29  10 best car subscription services in usa , elo...   \n",
       "170   TSLA 2024-08-30  tesla stock ended a bad week with a good day d...   \n",
       "\n",
       "          Close  Price_Change  Label  \n",
       "0    226.490005     -1.539993     -1  \n",
       "1    229.789993      3.299988      1  \n",
       "2    229.000000     -0.789993     -1  \n",
       "5    156.399994      1.119995      1  \n",
       "6    157.809998      1.410004      1  \n",
       "..          ...           ...    ...  \n",
       "165  141.289993      1.869995      1  \n",
       "167  209.210007     -4.000000     -1  \n",
       "168  205.750000     -3.460007     -1  \n",
       "169  206.279999      0.529999      1  \n",
       "170  214.110001      7.830002      1  \n",
       "\n",
       "[113 rows x 6 columns]"
      ]
     },
     "execution_count": 17,
     "metadata": {},
     "output_type": "execute_result"
    }
   ],
   "source": [
    "final_df"
   ]
  },
  {
   "cell_type": "markdown",
   "metadata": {},
   "source": [
    "# save final_df"
   ]
  },
  {
   "cell_type": "code",
   "execution_count": 16,
   "metadata": {},
   "outputs": [],
   "source": [
    "final_df.to_csv(FINAL_DATA_PATH , index=False)"
   ]
<<<<<<< HEAD
  },
  {
   "cell_type": "code",
   "execution_count": null,
   "metadata": {},
   "outputs": [],
   "source": []
  },
  {
   "cell_type": "code",
   "execution_count": null,
   "metadata": {},
   "outputs": [],
   "source": []
  },
  {
   "cell_type": "code",
   "execution_count": null,
   "metadata": {},
   "outputs": [],
   "source": []
=======
>>>>>>> master
  }
 ],
 "metadata": {
  "kernelspec": {
   "display_name": "Python 3",
   "language": "python",
   "name": "python3"
  },
  "language_info": {
   "codemirror_mode": {
    "name": "ipython",
    "version": 3
   },
   "file_extension": ".py",
   "mimetype": "text/x-python",
   "name": "python",
   "nbconvert_exporter": "python",
   "pygments_lexer": "ipython3",
   "version": "3.12.4"
  }
 },
 "nbformat": 4,
 "nbformat_minor": 2
}
