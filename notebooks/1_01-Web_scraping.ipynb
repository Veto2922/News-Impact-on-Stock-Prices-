{
 "cells": [
  {
   "cell_type": "code",
   "execution_count": 1,
   "metadata": {},
   "outputs": [],
   "source": [
    "COMPANIES_NEWS_PATH =  r'D:\\Projects\\Quantum Bits\\News-Impact-on-Stock-Prices-\\Project_data\\output\\campanies_news.csv'"
   ]
  },
  {
   "cell_type": "code",
   "execution_count": 2,
   "metadata": {},
   "outputs": [],
   "source": [
    "from urllib.request import urlopen , Request\n",
    "from bs4 import BeautifulSoup\n",
    "import pandas as pd\n",
    "import re"
   ]
  },
  {
<<<<<<< HEAD
=======
   "cell_type": "markdown",
   "metadata": {},
   "source": [
    "# Functions"
   ]
  },
  {
>>>>>>> master
   "cell_type": "code",
   "execution_count": 3,
   "metadata": {},
   "outputs": [],
   "source": [
    "def get_news(tickers: list):\n",
    "    \"\"\"\n",
    "    Fetches recent news headlines for the given list of stock tickers from Finviz.\n",
    "\n",
    "    Args:\n",
    "    tickers (list): A list of stock ticker symbols (e.g., ['AAPL', 'GOOGL']).\n",
    "\n",
    "    Returns:\n",
    "    pd.DataFrame: A DataFrame containing the ticker symbol, date, time, and headline of the news.\n",
    "    \"\"\"\n",
    "    finviz_url = 'https://finviz.com/quote.ashx?t='  # Base URL for Finviz stock pages\n",
    "    news_tables = {}  # Dictionary to store news tables for each ticker\n",
    "    parsed_data = []  # List to store parsed news data\n",
    "\n",
    "    # Loop through each ticker to fetch news\n",
    "    for ticker in tickers:\n",
    "        url = finviz_url + ticker  # Construct URL for the specific stock ticker\n",
    "        \n",
    "        # Send a request to the URL with a user-agent header to avoid being blocked\n",
    "        req = Request(url, headers={'user-agent': 'google'})\n",
    "        response = urlopen(req)  # Get the response\n",
    "        \n",
    "        # Parse the HTML content of the page\n",
    "        html = BeautifulSoup(response, 'html.parser')\n",
    "        \n",
    "        # Find the news table by its ID and store it in the dictionary\n",
    "        news_table = html.find('table', {'id': 'news-table'})\n",
    "        news_tables[ticker] = news_table\n",
    "\n",
    "    # Loop through each ticker's news table to extract headlines and timestamps\n",
    "    for ticker, news_table in news_tables.items():\n",
    "        for rows in news_table.findAll('tr'):  # Iterate through each row in the table\n",
    "            title = rows.a.text.strip()  # Extract the headline text\n",
    "            date_time_data = rows.td.text.strip().split(' ')  # Extract date and time\n",
    "            \n",
    "            # Check if only time is available (no date)\n",
    "            if len(date_time_data) == 1:\n",
    "                time = date_time_data[0]\n",
    "            else:\n",
    "                date = date_time_data[0]  # Extract the date\n",
    "                time = date_time_data[1]  # Extract the time\n",
    "                \n",
    "            # Append the parsed data to the list\n",
    "            parsed_data.append([ticker, date, time, title])\n",
    "    \n",
    "    # Convert the parsed data into a DataFrame\n",
    "    df = pd.DataFrame(parsed_data, columns=['Ticker', 'Date', 'Time', 'Headline'])\n",
    "    \n",
    "    return df  # Return the DataFrame\n"
   ]
  },
  {
   "cell_type": "code",
<<<<<<< HEAD
=======
   "execution_count": 4,
   "metadata": {},
   "outputs": [],
   "source": [
    "def clean_data(df: pd.DataFrame) -> pd.DataFrame:\n",
    "    \"\"\"\n",
    "    Cleans and formats the news DataFrame by removing special characters and converting text to lowercase.\n",
    "\n",
    "    Args:\n",
    "    df (pd.DataFrame): The DataFrame containing scraped news headlines.\n",
    "\n",
    "    Returns:\n",
    "    pd.DataFrame: The cleaned and formatted DataFrame.\n",
    "    \"\"\"\n",
    "    # Remove special characters from the 'Headline' column and convert text to lowercase\n",
    "    df['Headline'] = df['Headline'].apply(lambda x: re.sub(r'[^a-zA-Z0-9\\s]', '', x.lower()))\n",
    "    \n",
    "    # Optional: Convert 'Date' column to a standard date format\n",
    "    df['Date'] = df['Date'].apply(lambda x: x.replace('Today', pd.to_datetime('today').strftime('%b-%d-%y')))\n",
    "\n",
    "    return df"
   ]
  },
  {
   "cell_type": "markdown",
   "metadata": {},
   "source": [
    "# Scraping"
   ]
  },
  {
   "cell_type": "code",
>>>>>>> master
   "execution_count": 5,
   "metadata": {},
   "outputs": [],
   "source": [
    "tickers = ['DELL' , 'AMZN' , 'META' , 'NVDA' , 'AAPL', 'GOOGL', 'MSFT', 'TSLA', 'NFLX', 'INTC', 'AMD', 'BABA', 'ORCL']\n",
    "\n",
    "df = get_news(tickers)"
   ]
  },
  {
   "cell_type": "code",
   "execution_count": 6,
   "metadata": {},
   "outputs": [
    {
     "data": {
      "text/html": [
       "<div>\n",
       "<style scoped>\n",
       "    .dataframe tbody tr th:only-of-type {\n",
       "        vertical-align: middle;\n",
       "    }\n",
       "\n",
       "    .dataframe tbody tr th {\n",
       "        vertical-align: top;\n",
       "    }\n",
       "\n",
       "    .dataframe thead th {\n",
       "        text-align: right;\n",
       "    }\n",
       "</style>\n",
       "<table border=\"1\" class=\"dataframe\">\n",
       "  <thead>\n",
       "    <tr style=\"text-align: right;\">\n",
       "      <th></th>\n",
       "      <th>Ticker</th>\n",
       "      <th>Date</th>\n",
       "      <th>Time</th>\n",
       "      <th>Headline</th>\n",
       "    </tr>\n",
       "  </thead>\n",
       "  <tbody>\n",
       "    <tr>\n",
       "      <th>0</th>\n",
       "      <td>DELL</td>\n",
<<<<<<< HEAD
       "      <td>Today</td>\n",
       "      <td>10:49PM</td>\n",
       "      <td>Dell Technologies Inc. (DELL): An Undervalued ...</td>\n",
=======
       "      <td>Sep-01-24</td>\n",
       "      <td>10:31PM</td>\n",
       "      <td>AI News That Broke The Internet This Week</td>\n",
>>>>>>> master
       "    </tr>\n",
       "    <tr>\n",
       "      <th>1</th>\n",
       "      <td>DELL</td>\n",
<<<<<<< HEAD
       "      <td>Today</td>\n",
=======
       "      <td>Aug-31-24</td>\n",
       "      <td>10:49PM</td>\n",
       "      <td>Dell Technologies Inc. (DELL): An Undervalued ...</td>\n",
       "    </tr>\n",
       "    <tr>\n",
       "      <th>2</th>\n",
       "      <td>DELL</td>\n",
       "      <td>Aug-31-24</td>\n",
>>>>>>> master
       "      <td>10:30AM</td>\n",
       "      <td>Dell Technologies Inc. (DELL): This AI Stock I...</td>\n",
       "    </tr>\n",
       "    <tr>\n",
<<<<<<< HEAD
       "      <th>2</th>\n",
=======
       "      <th>3</th>\n",
>>>>>>> master
       "      <td>DELL</td>\n",
       "      <td>Aug-30-24</td>\n",
       "      <td>04:40PM</td>\n",
       "      <td>These Stocks Moved the Most Today: Intel, Supe...</td>\n",
       "    </tr>\n",
       "    <tr>\n",
<<<<<<< HEAD
       "      <th>3</th>\n",
=======
       "      <th>4</th>\n",
>>>>>>> master
       "      <td>DELL</td>\n",
       "      <td>Aug-30-24</td>\n",
       "      <td>04:36PM</td>\n",
       "      <td>Heard on the Street: Dell Shows AI Isn't a Los...</td>\n",
       "    </tr>\n",
       "    <tr>\n",
<<<<<<< HEAD
       "      <th>4</th>\n",
       "      <td>DELL</td>\n",
       "      <td>Aug-30-24</td>\n",
       "      <td>04:17PM</td>\n",
       "      <td>AI Computer Sales Fuel Dell's Better-Than-Expe...</td>\n",
       "    </tr>\n",
       "    <tr>\n",
=======
>>>>>>> master
       "      <th>...</th>\n",
       "      <td>...</td>\n",
       "      <td>...</td>\n",
       "      <td>...</td>\n",
       "      <td>...</td>\n",
       "    </tr>\n",
       "    <tr>\n",
       "      <th>1295</th>\n",
       "      <td>ORCL</td>\n",
       "      <td>Jul-17-24</td>\n",
<<<<<<< HEAD
=======
       "      <td>10:20AM</td>\n",
       "      <td>Should Oracle Investors Be Worried After Elon ...</td>\n",
       "    </tr>\n",
       "    <tr>\n",
       "      <th>1296</th>\n",
       "      <td>ORCL</td>\n",
       "      <td>Jul-17-24</td>\n",
>>>>>>> master
       "      <td>09:59AM</td>\n",
       "      <td>Oracle (ORCL) Cloud Enhances Ackermans' Retail...</td>\n",
       "    </tr>\n",
       "    <tr>\n",
<<<<<<< HEAD
       "      <th>1296</th>\n",
=======
       "      <th>1297</th>\n",
>>>>>>> master
       "      <td>ORCL</td>\n",
       "      <td>Jul-16-24</td>\n",
       "      <td>11:13AM</td>\n",
       "      <td>3 Machine Learning Stocks That Could Grow Your...</td>\n",
       "    </tr>\n",
       "    <tr>\n",
<<<<<<< HEAD
       "      <th>1297</th>\n",
=======
       "      <th>1298</th>\n",
>>>>>>> master
       "      <td>ORCL</td>\n",
       "      <td>Jul-16-24</td>\n",
       "      <td>09:00AM</td>\n",
       "      <td>Oracle Corporation (ORCL) is Attracting Invest...</td>\n",
       "    </tr>\n",
       "    <tr>\n",
<<<<<<< HEAD
       "      <th>1298</th>\n",
=======
       "      <th>1299</th>\n",
>>>>>>> master
       "      <td>ORCL</td>\n",
       "      <td>Jul-16-24</td>\n",
       "      <td>05:40AM</td>\n",
       "      <td>Analyst Says These 10 AI Stocks Have More Upsi...</td>\n",
       "    </tr>\n",
<<<<<<< HEAD
       "    <tr>\n",
       "      <th>1299</th>\n",
       "      <td>ORCL</td>\n",
       "      <td>Jul-15-24</td>\n",
       "      <td>05:56PM</td>\n",
       "      <td>Trump picks JD Vance for VP, Big Bank earnings...</td>\n",
       "    </tr>\n",
=======
>>>>>>> master
       "  </tbody>\n",
       "</table>\n",
       "<p>1300 rows × 4 columns</p>\n",
       "</div>"
      ],
      "text/plain": [
       "     Ticker       Date     Time  \\\n",
<<<<<<< HEAD
       "0      DELL      Today  10:49PM   \n",
       "1      DELL      Today  10:30AM   \n",
       "2      DELL  Aug-30-24  04:40PM   \n",
       "3      DELL  Aug-30-24  04:36PM   \n",
       "4      DELL  Aug-30-24  04:17PM   \n",
       "...     ...        ...      ...   \n",
       "1295   ORCL  Jul-17-24  09:59AM   \n",
       "1296   ORCL  Jul-16-24  11:13AM   \n",
       "1297   ORCL  Jul-16-24  09:00AM   \n",
       "1298   ORCL  Jul-16-24  05:40AM   \n",
       "1299   ORCL  Jul-15-24  05:56PM   \n",
       "\n",
       "                                               Headline  \n",
       "0     Dell Technologies Inc. (DELL): An Undervalued ...  \n",
       "1     Dell Technologies Inc. (DELL): This AI Stock I...  \n",
       "2     These Stocks Moved the Most Today: Intel, Supe...  \n",
       "3     Heard on the Street: Dell Shows AI Isn't a Los...  \n",
       "4     AI Computer Sales Fuel Dell's Better-Than-Expe...  \n",
       "...                                                 ...  \n",
       "1295  Oracle (ORCL) Cloud Enhances Ackermans' Retail...  \n",
       "1296  3 Machine Learning Stocks That Could Grow Your...  \n",
       "1297  Oracle Corporation (ORCL) is Attracting Invest...  \n",
       "1298  Analyst Says These 10 AI Stocks Have More Upsi...  \n",
       "1299  Trump picks JD Vance for VP, Big Bank earnings...  \n",
=======
       "0      DELL  Sep-01-24  10:31PM   \n",
       "1      DELL  Aug-31-24  10:49PM   \n",
       "2      DELL  Aug-31-24  10:30AM   \n",
       "3      DELL  Aug-30-24  04:40PM   \n",
       "4      DELL  Aug-30-24  04:36PM   \n",
       "...     ...        ...      ...   \n",
       "1295   ORCL  Jul-17-24  10:20AM   \n",
       "1296   ORCL  Jul-17-24  09:59AM   \n",
       "1297   ORCL  Jul-16-24  11:13AM   \n",
       "1298   ORCL  Jul-16-24  09:00AM   \n",
       "1299   ORCL  Jul-16-24  05:40AM   \n",
       "\n",
       "                                               Headline  \n",
       "0             AI News That Broke The Internet This Week  \n",
       "1     Dell Technologies Inc. (DELL): An Undervalued ...  \n",
       "2     Dell Technologies Inc. (DELL): This AI Stock I...  \n",
       "3     These Stocks Moved the Most Today: Intel, Supe...  \n",
       "4     Heard on the Street: Dell Shows AI Isn't a Los...  \n",
       "...                                                 ...  \n",
       "1295  Should Oracle Investors Be Worried After Elon ...  \n",
       "1296  Oracle (ORCL) Cloud Enhances Ackermans' Retail...  \n",
       "1297  3 Machine Learning Stocks That Could Grow Your...  \n",
       "1298  Oracle Corporation (ORCL) is Attracting Invest...  \n",
       "1299  Analyst Says These 10 AI Stocks Have More Upsi...  \n",
>>>>>>> master
       "\n",
       "[1300 rows x 4 columns]"
      ]
     },
     "execution_count": 6,
     "metadata": {},
     "output_type": "execute_result"
    }
   ],
   "source": [
    "df"
   ]
  },
  {
   "cell_type": "markdown",
   "metadata": {},
   "source": [
    "# Data Cleaning"
   ]
  },
  {
   "cell_type": "code",
   "execution_count": 7,
   "metadata": {},
   "outputs": [
    {
     "data": {
      "text/plain": [
       "Ticker      0\n",
       "Date        0\n",
       "Time        0\n",
       "Headline    0\n",
       "dtype: int64"
      ]
     },
     "execution_count": 7,
     "metadata": {},
     "output_type": "execute_result"
    }
   ],
   "source": [
    "df.isna().sum()"
   ]
  },
  {
   "cell_type": "code",
   "execution_count": 8,
   "metadata": {},
<<<<<<< HEAD
   "outputs": [],
   "source": [
    "def clean_data(df: pd.DataFrame) -> pd.DataFrame:\n",
    "    \"\"\"\n",
    "    Cleans and formats the news DataFrame by removing special characters and converting text to lowercase.\n",
    "\n",
    "    Args:\n",
    "    df (pd.DataFrame): The DataFrame containing scraped news headlines.\n",
    "\n",
    "    Returns:\n",
    "    pd.DataFrame: The cleaned and formatted DataFrame.\n",
    "    \"\"\"\n",
    "    # Remove special characters from the 'Headline' column and convert text to lowercase\n",
    "    df['Headline'] = df['Headline'].apply(lambda x: re.sub(r'[^a-zA-Z0-9\\s]', '', x.lower()))\n",
    "    \n",
    "    # Optional: Convert 'Date' column to a standard date format\n",
    "    df['Date'] = df['Date'].apply(lambda x: x.replace('Today', pd.to_datetime('today').strftime('%b-%d-%y')))\n",
    "\n",
    "    return df"
=======
   "outputs": [
    {
     "data": {
      "text/html": [
       "<div>\n",
       "<style scoped>\n",
       "    .dataframe tbody tr th:only-of-type {\n",
       "        vertical-align: middle;\n",
       "    }\n",
       "\n",
       "    .dataframe tbody tr th {\n",
       "        vertical-align: top;\n",
       "    }\n",
       "\n",
       "    .dataframe thead th {\n",
       "        text-align: right;\n",
       "    }\n",
       "</style>\n",
       "<table border=\"1\" class=\"dataframe\">\n",
       "  <thead>\n",
       "    <tr style=\"text-align: right;\">\n",
       "      <th></th>\n",
       "      <th>Ticker</th>\n",
       "      <th>Date</th>\n",
       "      <th>Time</th>\n",
       "      <th>Headline</th>\n",
       "    </tr>\n",
       "  </thead>\n",
       "  <tbody>\n",
       "    <tr>\n",
       "      <th>0</th>\n",
       "      <td>DELL</td>\n",
       "      <td>Sep-01-24</td>\n",
       "      <td>10:31PM</td>\n",
       "      <td>AI News That Broke The Internet This Week</td>\n",
       "    </tr>\n",
       "    <tr>\n",
       "      <th>1</th>\n",
       "      <td>DELL</td>\n",
       "      <td>Aug-31-24</td>\n",
       "      <td>10:49PM</td>\n",
       "      <td>Dell Technologies Inc. (DELL): An Undervalued ...</td>\n",
       "    </tr>\n",
       "    <tr>\n",
       "      <th>2</th>\n",
       "      <td>DELL</td>\n",
       "      <td>Aug-31-24</td>\n",
       "      <td>10:30AM</td>\n",
       "      <td>Dell Technologies Inc. (DELL): This AI Stock I...</td>\n",
       "    </tr>\n",
       "    <tr>\n",
       "      <th>3</th>\n",
       "      <td>DELL</td>\n",
       "      <td>Aug-30-24</td>\n",
       "      <td>04:40PM</td>\n",
       "      <td>These Stocks Moved the Most Today: Intel, Supe...</td>\n",
       "    </tr>\n",
       "    <tr>\n",
       "      <th>4</th>\n",
       "      <td>DELL</td>\n",
       "      <td>Aug-30-24</td>\n",
       "      <td>04:36PM</td>\n",
       "      <td>Heard on the Street: Dell Shows AI Isn't a Los...</td>\n",
       "    </tr>\n",
       "  </tbody>\n",
       "</table>\n",
       "</div>"
      ],
      "text/plain": [
       "  Ticker       Date     Time  \\\n",
       "0   DELL  Sep-01-24  10:31PM   \n",
       "1   DELL  Aug-31-24  10:49PM   \n",
       "2   DELL  Aug-31-24  10:30AM   \n",
       "3   DELL  Aug-30-24  04:40PM   \n",
       "4   DELL  Aug-30-24  04:36PM   \n",
       "\n",
       "                                            Headline  \n",
       "0          AI News That Broke The Internet This Week  \n",
       "1  Dell Technologies Inc. (DELL): An Undervalued ...  \n",
       "2  Dell Technologies Inc. (DELL): This AI Stock I...  \n",
       "3  These Stocks Moved the Most Today: Intel, Supe...  \n",
       "4  Heard on the Street: Dell Shows AI Isn't a Los...  "
      ]
     },
     "execution_count": 8,
     "metadata": {},
     "output_type": "execute_result"
    }
   ],
   "source": [
    "df.head()"
>>>>>>> master
   ]
  },
  {
   "cell_type": "code",
   "execution_count": 9,
   "metadata": {},
   "outputs": [
    {
     "data": {
      "text/html": [
       "<div>\n",
       "<style scoped>\n",
       "    .dataframe tbody tr th:only-of-type {\n",
       "        vertical-align: middle;\n",
       "    }\n",
       "\n",
       "    .dataframe tbody tr th {\n",
       "        vertical-align: top;\n",
       "    }\n",
       "\n",
       "    .dataframe thead th {\n",
       "        text-align: right;\n",
       "    }\n",
       "</style>\n",
       "<table border=\"1\" class=\"dataframe\">\n",
       "  <thead>\n",
       "    <tr style=\"text-align: right;\">\n",
       "      <th></th>\n",
       "      <th>Ticker</th>\n",
       "      <th>Date</th>\n",
       "      <th>Time</th>\n",
       "      <th>Headline</th>\n",
       "    </tr>\n",
       "  </thead>\n",
       "  <tbody>\n",
       "    <tr>\n",
       "      <th>0</th>\n",
       "      <td>DELL</td>\n",
<<<<<<< HEAD
       "      <td>Today</td>\n",
       "      <td>10:49PM</td>\n",
       "      <td>Dell Technologies Inc. (DELL): An Undervalued ...</td>\n",
=======
       "      <td>Sep-01-24</td>\n",
       "      <td>10:31PM</td>\n",
       "      <td>ai news that broke the internet this week</td>\n",
>>>>>>> master
       "    </tr>\n",
       "    <tr>\n",
       "      <th>1</th>\n",
       "      <td>DELL</td>\n",
<<<<<<< HEAD
       "      <td>Today</td>\n",
       "      <td>10:30AM</td>\n",
       "      <td>Dell Technologies Inc. (DELL): This AI Stock I...</td>\n",
=======
       "      <td>Aug-31-24</td>\n",
       "      <td>10:49PM</td>\n",
       "      <td>dell technologies inc dell an undervalued tech...</td>\n",
>>>>>>> master
       "    </tr>\n",
       "    <tr>\n",
       "      <th>2</th>\n",
       "      <td>DELL</td>\n",
<<<<<<< HEAD
       "      <td>Aug-30-24</td>\n",
       "      <td>04:40PM</td>\n",
       "      <td>These Stocks Moved the Most Today: Intel, Supe...</td>\n",
=======
       "      <td>Aug-31-24</td>\n",
       "      <td>10:30AM</td>\n",
       "      <td>dell technologies inc dell this ai stock is tr...</td>\n",
>>>>>>> master
       "    </tr>\n",
       "    <tr>\n",
       "      <th>3</th>\n",
       "      <td>DELL</td>\n",
       "      <td>Aug-30-24</td>\n",
<<<<<<< HEAD
       "      <td>04:36PM</td>\n",
       "      <td>Heard on the Street: Dell Shows AI Isn't a Los...</td>\n",
=======
       "      <td>04:40PM</td>\n",
       "      <td>these stocks moved the most today intel super ...</td>\n",
>>>>>>> master
       "    </tr>\n",
       "    <tr>\n",
       "      <th>4</th>\n",
       "      <td>DELL</td>\n",
       "      <td>Aug-30-24</td>\n",
<<<<<<< HEAD
       "      <td>04:17PM</td>\n",
       "      <td>AI Computer Sales Fuel Dell's Better-Than-Expe...</td>\n",
=======
       "      <td>04:36PM</td>\n",
       "      <td>heard on the street dell shows ai isnt a loss ...</td>\n",
>>>>>>> master
       "    </tr>\n",
       "  </tbody>\n",
       "</table>\n",
       "</div>"
      ],
      "text/plain": [
       "  Ticker       Date     Time  \\\n",
<<<<<<< HEAD
       "0   DELL      Today  10:49PM   \n",
       "1   DELL      Today  10:30AM   \n",
       "2   DELL  Aug-30-24  04:40PM   \n",
       "3   DELL  Aug-30-24  04:36PM   \n",
       "4   DELL  Aug-30-24  04:17PM   \n",
       "\n",
       "                                            Headline  \n",
       "0  Dell Technologies Inc. (DELL): An Undervalued ...  \n",
       "1  Dell Technologies Inc. (DELL): This AI Stock I...  \n",
       "2  These Stocks Moved the Most Today: Intel, Supe...  \n",
       "3  Heard on the Street: Dell Shows AI Isn't a Los...  \n",
       "4  AI Computer Sales Fuel Dell's Better-Than-Expe...  "
=======
       "0   DELL  Sep-01-24  10:31PM   \n",
       "1   DELL  Aug-31-24  10:49PM   \n",
       "2   DELL  Aug-31-24  10:30AM   \n",
       "3   DELL  Aug-30-24  04:40PM   \n",
       "4   DELL  Aug-30-24  04:36PM   \n",
       "\n",
       "                                            Headline  \n",
       "0          ai news that broke the internet this week  \n",
       "1  dell technologies inc dell an undervalued tech...  \n",
       "2  dell technologies inc dell this ai stock is tr...  \n",
       "3  these stocks moved the most today intel super ...  \n",
       "4  heard on the street dell shows ai isnt a loss ...  "
>>>>>>> master
      ]
     },
     "execution_count": 9,
     "metadata": {},
     "output_type": "execute_result"
    }
   ],
   "source": [
<<<<<<< HEAD
    "df.head()"
=======
    "cleaned_df = clean_data(df)\n",
    "cleaned_df.head()"
>>>>>>> master
   ]
  },
  {
   "cell_type": "code",
<<<<<<< HEAD
   "execution_count": 10,
=======
   "execution_count": 13,
>>>>>>> master
   "metadata": {},
   "outputs": [
    {
     "data": {
<<<<<<< HEAD
      "text/html": [
       "<div>\n",
       "<style scoped>\n",
       "    .dataframe tbody tr th:only-of-type {\n",
       "        vertical-align: middle;\n",
       "    }\n",
       "\n",
       "    .dataframe tbody tr th {\n",
       "        vertical-align: top;\n",
       "    }\n",
       "\n",
       "    .dataframe thead th {\n",
       "        text-align: right;\n",
       "    }\n",
       "</style>\n",
       "<table border=\"1\" class=\"dataframe\">\n",
       "  <thead>\n",
       "    <tr style=\"text-align: right;\">\n",
       "      <th></th>\n",
       "      <th>Ticker</th>\n",
       "      <th>Date</th>\n",
       "      <th>Time</th>\n",
       "      <th>Headline</th>\n",
       "    </tr>\n",
       "  </thead>\n",
       "  <tbody>\n",
       "    <tr>\n",
       "      <th>0</th>\n",
       "      <td>DELL</td>\n",
       "      <td>Sep-01-24</td>\n",
       "      <td>10:49PM</td>\n",
       "      <td>dell technologies inc dell an undervalued tech...</td>\n",
       "    </tr>\n",
       "    <tr>\n",
       "      <th>1</th>\n",
       "      <td>DELL</td>\n",
       "      <td>Sep-01-24</td>\n",
       "      <td>10:30AM</td>\n",
       "      <td>dell technologies inc dell this ai stock is tr...</td>\n",
       "    </tr>\n",
       "    <tr>\n",
       "      <th>2</th>\n",
       "      <td>DELL</td>\n",
       "      <td>Aug-30-24</td>\n",
       "      <td>04:40PM</td>\n",
       "      <td>these stocks moved the most today intel super ...</td>\n",
       "    </tr>\n",
       "    <tr>\n",
       "      <th>3</th>\n",
       "      <td>DELL</td>\n",
       "      <td>Aug-30-24</td>\n",
       "      <td>04:36PM</td>\n",
       "      <td>heard on the street dell shows ai isnt a loss ...</td>\n",
       "    </tr>\n",
       "    <tr>\n",
       "      <th>4</th>\n",
       "      <td>DELL</td>\n",
       "      <td>Aug-30-24</td>\n",
       "      <td>04:17PM</td>\n",
       "      <td>ai computer sales fuel dells betterthanexpecte...</td>\n",
       "    </tr>\n",
       "  </tbody>\n",
       "</table>\n",
       "</div>"
      ],
      "text/plain": [
       "  Ticker       Date     Time  \\\n",
       "0   DELL  Sep-01-24  10:49PM   \n",
       "1   DELL  Sep-01-24  10:30AM   \n",
       "2   DELL  Aug-30-24  04:40PM   \n",
       "3   DELL  Aug-30-24  04:36PM   \n",
       "4   DELL  Aug-30-24  04:17PM   \n",
       "\n",
       "                                            Headline  \n",
       "0  dell technologies inc dell an undervalued tech...  \n",
       "1  dell technologies inc dell this ai stock is tr...  \n",
       "2  these stocks moved the most today intel super ...  \n",
       "3  heard on the street dell shows ai isnt a loss ...  \n",
       "4  ai computer sales fuel dells betterthanexpecte...  "
      ]
     },
     "execution_count": 10,
     "metadata": {},
     "output_type": "execute_result"
    }
   ],
   "source": [
    "cleaned_df = clean_data(df)\n",
    "cleaned_df.head()"
=======
      "image/png": "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",
      "text/plain": [
       "<Figure size 1000x600 with 1 Axes>"
      ]
     },
     "metadata": {},
     "output_type": "display_data"
    }
   ],
   "source": [
    "import matplotlib.pyplot as plt\n",
    "\n",
    "# Plot the number of headlines per ticker\n",
    "plt.figure(figsize=(10, 6))\n",
    "cleaned_df['Ticker'].value_counts().plot(kind='bar')\n",
    "plt.title('Number of Headlines per Ticker')\n",
    "plt.xlabel('Ticker')\n",
    "plt.ylabel('Number of Headlines')\n",
    "plt.show()"
>>>>>>> master
   ]
  },
  {
   "cell_type": "markdown",
   "metadata": {},
   "source": [
    "# save the data"
   ]
  },
  {
   "cell_type": "code",
<<<<<<< HEAD
   "execution_count": 11,
=======
   "execution_count": 10,
>>>>>>> master
   "metadata": {},
   "outputs": [],
   "source": [
    "cleaned_df.to_csv(COMPANIES_NEWS_PATH , index=False)"
   ]
  },
  {
   "cell_type": "code",
   "execution_count": null,
   "metadata": {},
   "outputs": [],
   "source": []
  }
 ],
 "metadata": {
  "kernelspec": {
   "display_name": "Python 3",
   "language": "python",
   "name": "python3"
  },
  "language_info": {
   "codemirror_mode": {
    "name": "ipython",
    "version": 3
   },
   "file_extension": ".py",
   "mimetype": "text/x-python",
   "name": "python",
   "nbconvert_exporter": "python",
   "pygments_lexer": "ipython3",
   "version": "3.12.4"
  }
 },
 "nbformat": 4,
 "nbformat_minor": 2
}
