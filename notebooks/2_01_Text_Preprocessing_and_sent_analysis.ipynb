{
 "cells": [
  {
   "cell_type": "code",
   "execution_count": 17,
   "metadata": {},
   "outputs": [],
   "source": [
    "FINAL_DATA_PATH =  r'D:\\Projects\\Quantum Bits\\News-Impact-on-Stock-Prices-\\Project_data\\output\\final_data.csv'\n",
    "TFIDF_DATA_PATH =  r'D:\\Projects\\Quantum Bits\\News-Impact-on-Stock-Prices-\\Project_data\\output\\TFIDF.csv'\n"
   ]
  },
  {
   "cell_type": "code",
   "execution_count": 79,
   "metadata": {},
   "outputs": [
    {
     "name": "stderr",
     "output_type": "stream",
     "text": [
      "[nltk_data] Downloading package stopwords to\n",
      "[nltk_data]     C:\\Users\\DELL\\AppData\\Roaming\\nltk_data...\n",
      "[nltk_data]   Package stopwords is already up-to-date!\n",
      "[nltk_data] Downloading package wordnet to\n",
      "[nltk_data]     C:\\Users\\DELL\\AppData\\Roaming\\nltk_data...\n",
      "[nltk_data]   Package wordnet is already up-to-date!\n",
      "[nltk_data] Downloading package vader_lexicon to\n",
      "[nltk_data]     C:\\Users\\DELL\\AppData\\Roaming\\nltk_data...\n",
      "[nltk_data]   Package vader_lexicon is already up-to-date!\n"
     ]
    },
    {
     "data": {
      "text/plain": [
       "True"
      ]
     },
     "execution_count": 79,
     "metadata": {},
     "output_type": "execute_result"
    }
   ],
   "source": [
    "import re\n",
    "import nltk\n",
    "from nltk.corpus import stopwords\n",
    "from nltk.stem import WordNetLemmatizer\n",
    "from nltk.sentiment.vader import SentimentIntensityAnalyzer\n",
    "import pandas as pd\n",
    "import matplotlib.pyplot as plt\n",
    "import seaborn as sns\n",
    "# Ensure required NLTK packages are downloaded\n",
    "nltk.download('stopwords')\n",
    "nltk.download('wordnet')\n",
    "nltk.download('vader_lexicon')"
   ]
  },
  {
   "cell_type": "code",
   "execution_count": 5,
   "metadata": {},
   "outputs": [],
   "source": [
    "\n",
    "def preprocess_text(text):\n",
    "    # Convert to lowercase\n",
    "    text = text.lower()\n",
    "    # Remove punctuation and special characters\n",
    "    text = re.sub(r'[^\\w\\s]', '', text)\n",
    "    # Tokenize\n",
    "    tokens = text.split()\n",
    "    # Remove stopwords\n",
    "    tokens = [word for word in tokens if word not in stopwords.words('english')]\n",
    "    # Lemmatize\n",
    "    lemmatizer = WordNetLemmatizer()\n",
    "    tokens = [lemmatizer.lemmatize(word) for word in tokens]\n",
    "    # Join tokens back into a string\n",
    "    return ' '.join(tokens)\n",
    "\n"
   ]
  },
  {
   "cell_type": "markdown",
   "metadata": {},
   "source": [
    "# Text Preprocessing"
   ]
  },
  {
   "cell_type": "code",
   "execution_count": 8,
   "metadata": {},
   "outputs": [],
   "source": [
    "df = pd.read_csv(FINAL_DATA_PATH)"
   ]
  },
  {
   "cell_type": "code",
   "execution_count": 11,
   "metadata": {},
   "outputs": [],
   "source": [
    "df['Processed_Headline'] = df['Headline'].apply(preprocess_text)"
   ]
  },
  {
   "cell_type": "code",
   "execution_count": 13,
   "metadata": {},
   "outputs": [],
   "source": [
    "# df"
   ]
  },
  {
   "cell_type": "markdown",
   "metadata": {},
   "source": [
    "# Feature Extraction:"
   ]
  },
  {
   "cell_type": "markdown",
   "metadata": {},
   "source": [
    "### TFIDF"
   ]
  },
  {
   "cell_type": "code",
   "execution_count": 14,
   "metadata": {},
   "outputs": [],
   "source": [
    "from sklearn.feature_extraction.text import TfidfVectorizer\n",
    "\n",
    "tfidf = TfidfVectorizer(max_features=5000)  # You can adjust the number of features\n",
    "tfidf_features = tfidf.fit_transform(df['Processed_Headline'])\n",
    "\n",
    "# Convert to DataFrame for easier merging\n",
    "tfidf_df = pd.DataFrame(tfidf_features.toarray(), columns=tfidf.get_feature_names_out())\n"
   ]
  },
  {
   "cell_type": "code",
   "execution_count": 18,
   "metadata": {},
   "outputs": [],
   "source": [
    "tfidf_df.to_csv(TFIDF_DATA_PATH , index=False)"
   ]
  },
  {
   "cell_type": "markdown",
   "metadata": {},
   "source": [
    "TF IDF is a better and easier way to present the text data for text classification and ML models"
   ]
  },
  {
   "cell_type": "markdown",
   "metadata": {},
   "source": [
    "### WORD2VEC"
   ]
  },
  {
   "cell_type": "code",
   "execution_count": 86,
   "metadata": {},
   "outputs": [],
   "source": [
    "from gensim.models import KeyedVectors\n",
    "\n",
    "# Download and Load pre-trained Word2Vec model (Google News vectors)\n",
    "# https://drive.usercontent.google.com/download?id=0B7XkCwpI5KDYNlNUTTlSS21pQmM&export=download&authuser=0\n",
    "model_path = r'D:\\Projects\\Quantum Bits\\News-Impact-on-Stock-Prices-\\data\\raw\\GoogleNews-vectors-negative300.bin'  # Update with the actual path\n",
    "word2vec_model = KeyedVectors.load_word2vec_format(model_path, binary=True)\n"
   ]
  },
  {
   "cell_type": "code",
   "execution_count": 105,
   "metadata": {},
   "outputs": [
    {
     "data": {
      "text/plain": [
       "300"
      ]
     },
     "execution_count": 105,
     "metadata": {},
     "output_type": "execute_result"
    }
   ],
   "source": [
    "text = 'i love you'\n",
    "\n",
    "len([word2vec_model[word] for word in text if word in word2vec_model][5])"
   ]
  },
  {
   "cell_type": "code",
   "execution_count": 92,
   "metadata": {},
   "outputs": [],
   "source": [
    "import numpy as np\n",
    "\n",
    "def get_avg_word2vec_vector(text, model):\n",
    "    words = text.split()\n",
    "    word_vectors = [model[word] for word in words if word in model]\n",
    "    \n",
    "    if len(word_vectors) == 0:\n",
    "        return np.zeros(model.vector_size)  # Return a zero vector if no words are found in the model\n",
    "    \n",
    "    return np.mean(word_vectors, axis=0)\n",
    "\n",
    "# Apply this function to your DataFrame\n",
    "df['Word2Vec_Vector'] = df['Processed_Headline'].apply(lambda x: get_avg_word2vec_vector(x, word2vec_model))\n"
   ]
  },
  {
   "cell_type": "code",
   "execution_count": 97,
   "metadata": {},
   "outputs": [
    {
     "data": {
      "text/plain": [
       "300"
      ]
     },
     "execution_count": 97,
     "metadata": {},
     "output_type": "execute_result"
    }
   ],
   "source": [
    "len(df['Word2Vec_Vector'][0])"
   ]
  },
  {
   "cell_type": "markdown",
   "metadata": {},
   "source": [
    "# Sentiment Analysis"
   ]
  },
  {
   "cell_type": "markdown",
   "metadata": {},
   "source": [
    "VADER is good for short texts and works well with financial news."
   ]
  },
  {
   "cell_type": "code",
   "execution_count": 23,
   "metadata": {},
   "outputs": [],
   "source": [
    "# Initialize VADER sentiment analyzer\n",
    "sid = SentimentIntensityAnalyzer()"
   ]
  },
  {
   "cell_type": "code",
   "execution_count": 44,
   "metadata": {},
   "outputs": [
    {
     "data": {
      "text/html": [
       "<div>\n",
       "<style scoped>\n",
       "    .dataframe tbody tr th:only-of-type {\n",
       "        vertical-align: middle;\n",
       "    }\n",
       "\n",
       "    .dataframe tbody tr th {\n",
       "        vertical-align: top;\n",
       "    }\n",
       "\n",
       "    .dataframe thead th {\n",
       "        text-align: right;\n",
       "    }\n",
       "</style>\n",
       "<table border=\"1\" class=\"dataframe\">\n",
       "  <thead>\n",
       "    <tr style=\"text-align: right;\">\n",
       "      <th></th>\n",
       "      <th>Ticker</th>\n",
       "      <th>Date</th>\n",
       "      <th>Headline</th>\n",
       "      <th>Close</th>\n",
       "      <th>Price_Change</th>\n",
       "      <th>Label</th>\n",
       "      <th>Processed_Headline</th>\n",
       "    </tr>\n",
       "  </thead>\n",
       "  <tbody>\n",
       "    <tr>\n",
       "      <th>0</th>\n",
       "      <td>AMZN</td>\n",
       "      <td>2024-08-27</td>\n",
       "      <td>kelce brothers podcast privateequity vote late...</td>\n",
       "      <td>173.119995</td>\n",
       "      <td>-2.380005</td>\n",
       "      <td>-1</td>\n",
       "      <td>kelce brother podcast privateequity vote lates...</td>\n",
       "    </tr>\n",
       "    <tr>\n",
       "      <th>1</th>\n",
       "      <td>AMZN</td>\n",
       "      <td>2024-08-28</td>\n",
       "      <td>4 key takeaways from nvidias earnings call , i...</td>\n",
       "      <td>170.800003</td>\n",
       "      <td>-2.319992</td>\n",
       "      <td>-1</td>\n",
       "      <td>4 key takeaway nvidias earnings call amazon al...</td>\n",
       "    </tr>\n",
       "    <tr>\n",
       "      <th>2</th>\n",
       "      <td>AMZN</td>\n",
       "      <td>2024-08-29</td>\n",
       "      <td>7 best fast money stocks to buy according to h...</td>\n",
       "      <td>172.119995</td>\n",
       "      <td>1.319992</td>\n",
       "      <td>1</td>\n",
       "      <td>7 best fast money stock buy according hedge fu...</td>\n",
       "    </tr>\n",
       "    <tr>\n",
       "      <th>3</th>\n",
       "      <td>AMZN</td>\n",
       "      <td>2024-08-30</td>\n",
       "      <td>amazon to hire covariant founders to expand wa...</td>\n",
       "      <td>178.500000</td>\n",
       "      <td>6.380005</td>\n",
       "      <td>1</td>\n",
       "      <td>amazon hire covariant founder expand warehouse...</td>\n",
       "    </tr>\n",
       "    <tr>\n",
       "      <th>4</th>\n",
       "      <td>DELL</td>\n",
       "      <td>2024-07-23</td>\n",
       "      <td>3 top pc stocks to buy in july 2024 , dell sto...</td>\n",
       "      <td>125.849998</td>\n",
       "      <td>-2.445000</td>\n",
       "      <td>-1</td>\n",
       "      <td>3 top pc stock buy july 2024 dell stock buy al...</td>\n",
       "    </tr>\n",
       "  </tbody>\n",
       "</table>\n",
       "</div>"
      ],
      "text/plain": [
       "  Ticker        Date                                           Headline  \\\n",
       "0   AMZN  2024-08-27  kelce brothers podcast privateequity vote late...   \n",
       "1   AMZN  2024-08-28  4 key takeaways from nvidias earnings call , i...   \n",
       "2   AMZN  2024-08-29  7 best fast money stocks to buy according to h...   \n",
       "3   AMZN  2024-08-30  amazon to hire covariant founders to expand wa...   \n",
       "4   DELL  2024-07-23  3 top pc stocks to buy in july 2024 , dell sto...   \n",
       "\n",
       "        Close  Price_Change  Label  \\\n",
       "0  173.119995     -2.380005     -1   \n",
       "1  170.800003     -2.319992     -1   \n",
       "2  172.119995      1.319992      1   \n",
       "3  178.500000      6.380005      1   \n",
       "4  125.849998     -2.445000     -1   \n",
       "\n",
       "                                  Processed_Headline  \n",
       "0  kelce brother podcast privateequity vote lates...  \n",
       "1  4 key takeaway nvidias earnings call amazon al...  \n",
       "2  7 best fast money stock buy according hedge fu...  \n",
       "3  amazon hire covariant founder expand warehouse...  \n",
       "4  3 top pc stock buy july 2024 dell stock buy al...  "
      ]
     },
     "execution_count": 44,
     "metadata": {},
     "output_type": "execute_result"
    }
   ],
   "source": [
    "df.head()"
   ]
  },
  {
   "cell_type": "code",
   "execution_count": 68,
   "metadata": {},
   "outputs": [],
   "source": [
    "text =  df['Headline'][1]"
   ]
  },
  {
   "cell_type": "code",
   "execution_count": 69,
   "metadata": {},
   "outputs": [
    {
     "data": {
      "text/plain": [
       "'4 key takeaways from nvidias earnings call , is amazon alexa the best ai assistant in 2024 , forget amazon and tesla this nonmagnificent seven stock dwarfs their gains , google revamps controversial ai image generation tool after backlash , aws parallel computing service is now generally available designed to accelerate scientific discovery , big tech is under pressure today but so is the dow , nvidia stock weighs on tech sector ahead of earnings , labor day sales the best products to buy this weekend , top stock movers now super micro computer jm smucker nvidia and more , amazon focuses labor day sales event on backtoschool shoppers , analyst companies like amazoncom amzn now getting little bit of a bang on their ai spending , these are warren buffetts favorite artificial intelligence ai stocks , prediction these will be the 3 largest artificial intelligence ai companies by 2035 , prediction this unstoppable hypergrowth company will be the first 10 trillion stock hint its not nvidia , warren buffett once had 189 billion invested in 4 artificial intelligence ai stocks hes now slashed this stake by roughly 50'"
      ]
     },
     "execution_count": 69,
     "metadata": {},
     "output_type": "execute_result"
    }
   ],
   "source": [
    "text"
   ]
  },
  {
   "cell_type": "code",
   "execution_count": 70,
   "metadata": {},
   "outputs": [
    {
     "data": {
      "text/plain": [
       "{'neg': 0.045, 'neu': 0.749, 'pos': 0.206, 'compound': 0.988}"
      ]
     },
     "execution_count": 70,
     "metadata": {},
     "output_type": "execute_result"
    }
   ],
   "source": [
    "sid.polarity_scores(text)"
   ]
  },
  {
   "cell_type": "code",
   "execution_count": 71,
   "metadata": {},
   "outputs": [],
   "source": [
    "# Apply VADER\n",
    "df['Sentiment'] = df['Headline'].apply(lambda x: sid.polarity_scores(x)['compound'])"
   ]
  },
  {
   "cell_type": "code",
   "execution_count": 76,
   "metadata": {},
   "outputs": [
    {
     "data": {
      "text/html": [
       "<div>\n",
       "<style scoped>\n",
       "    .dataframe tbody tr th:only-of-type {\n",
       "        vertical-align: middle;\n",
       "    }\n",
       "\n",
       "    .dataframe tbody tr th {\n",
       "        vertical-align: top;\n",
       "    }\n",
       "\n",
       "    .dataframe thead th {\n",
       "        text-align: right;\n",
       "    }\n",
       "</style>\n",
       "<table border=\"1\" class=\"dataframe\">\n",
       "  <thead>\n",
       "    <tr style=\"text-align: right;\">\n",
       "      <th></th>\n",
       "      <th>Ticker</th>\n",
       "      <th>Date</th>\n",
       "      <th>Headline</th>\n",
       "      <th>Close</th>\n",
       "      <th>Price_Change</th>\n",
       "      <th>Label</th>\n",
       "      <th>Processed_Headline</th>\n",
       "      <th>Sentiment</th>\n",
       "    </tr>\n",
       "  </thead>\n",
       "  <tbody>\n",
       "    <tr>\n",
       "      <th>0</th>\n",
       "      <td>AMZN</td>\n",
       "      <td>2024-08-27</td>\n",
       "      <td>kelce brothers podcast privateequity vote late...</td>\n",
       "      <td>173.119995</td>\n",
       "      <td>-2.380005</td>\n",
       "      <td>-1</td>\n",
       "      <td>kelce brother podcast privateequity vote lates...</td>\n",
       "      <td>0.8957</td>\n",
       "    </tr>\n",
       "    <tr>\n",
       "      <th>1</th>\n",
       "      <td>AMZN</td>\n",
       "      <td>2024-08-28</td>\n",
       "      <td>4 key takeaways from nvidias earnings call , i...</td>\n",
       "      <td>170.800003</td>\n",
       "      <td>-2.319992</td>\n",
       "      <td>-1</td>\n",
       "      <td>4 key takeaway nvidias earnings call amazon al...</td>\n",
       "      <td>0.9880</td>\n",
       "    </tr>\n",
       "    <tr>\n",
       "      <th>2</th>\n",
       "      <td>AMZN</td>\n",
       "      <td>2024-08-29</td>\n",
       "      <td>7 best fast money stocks to buy according to h...</td>\n",
       "      <td>172.119995</td>\n",
       "      <td>1.319992</td>\n",
       "      <td>1</td>\n",
       "      <td>7 best fast money stock buy according hedge fu...</td>\n",
       "      <td>0.9564</td>\n",
       "    </tr>\n",
       "    <tr>\n",
       "      <th>3</th>\n",
       "      <td>AMZN</td>\n",
       "      <td>2024-08-30</td>\n",
       "      <td>amazon to hire covariant founders to expand wa...</td>\n",
       "      <td>178.500000</td>\n",
       "      <td>6.380005</td>\n",
       "      <td>1</td>\n",
       "      <td>amazon hire covariant founder expand warehouse...</td>\n",
       "      <td>0.9831</td>\n",
       "    </tr>\n",
       "    <tr>\n",
       "      <th>4</th>\n",
       "      <td>DELL</td>\n",
       "      <td>2024-07-23</td>\n",
       "      <td>3 top pc stocks to buy in july 2024 , dell sto...</td>\n",
       "      <td>125.849998</td>\n",
       "      <td>-2.445000</td>\n",
       "      <td>-1</td>\n",
       "      <td>3 top pc stock buy july 2024 dell stock buy al...</td>\n",
       "      <td>0.6597</td>\n",
       "    </tr>\n",
       "  </tbody>\n",
       "</table>\n",
       "</div>"
      ],
      "text/plain": [
       "  Ticker        Date                                           Headline  \\\n",
       "0   AMZN  2024-08-27  kelce brothers podcast privateequity vote late...   \n",
       "1   AMZN  2024-08-28  4 key takeaways from nvidias earnings call , i...   \n",
       "2   AMZN  2024-08-29  7 best fast money stocks to buy according to h...   \n",
       "3   AMZN  2024-08-30  amazon to hire covariant founders to expand wa...   \n",
       "4   DELL  2024-07-23  3 top pc stocks to buy in july 2024 , dell sto...   \n",
       "\n",
       "        Close  Price_Change  Label  \\\n",
       "0  173.119995     -2.380005     -1   \n",
       "1  170.800003     -2.319992     -1   \n",
       "2  172.119995      1.319992      1   \n",
       "3  178.500000      6.380005      1   \n",
       "4  125.849998     -2.445000     -1   \n",
       "\n",
       "                                  Processed_Headline  Sentiment  \n",
       "0  kelce brother podcast privateequity vote lates...     0.8957  \n",
       "1  4 key takeaway nvidias earnings call amazon al...     0.9880  \n",
       "2  7 best fast money stock buy according hedge fu...     0.9564  \n",
       "3  amazon hire covariant founder expand warehouse...     0.9831  \n",
       "4  3 top pc stock buy july 2024 dell stock buy al...     0.6597  "
      ]
     },
     "execution_count": 76,
     "metadata": {},
     "output_type": "execute_result"
    }
   ],
   "source": [
    "df.head()"
   ]
  },
  {
   "cell_type": "code",
   "execution_count": 83,
   "metadata": {},
   "outputs": [
    {
     "data": {
      "text/plain": [
       "([0,\n",
       "  1,\n",
       "  2,\n",
       "  3,\n",
       "  4,\n",
       "  5,\n",
       "  6,\n",
       "  7,\n",
       "  8,\n",
       "  9,\n",
       "  10,\n",
       "  11,\n",
       "  12,\n",
       "  13,\n",
       "  14,\n",
       "  15,\n",
       "  16,\n",
       "  17,\n",
       "  18,\n",
       "  19,\n",
       "  20,\n",
       "  21],\n",
       " [Text(0, 0, '2024-08-27'),\n",
       "  Text(1, 0, '2024-08-28'),\n",
       "  Text(2, 0, '2024-08-29'),\n",
       "  Text(3, 0, '2024-08-30'),\n",
       "  Text(4, 0, '2024-07-23'),\n",
       "  Text(5, 0, '2024-07-24'),\n",
       "  Text(6, 0, '2024-07-25'),\n",
       "  Text(7, 0, '2024-07-26'),\n",
       "  Text(8, 0, '2024-07-30'),\n",
       "  Text(9, 0, '2024-07-31'),\n",
       "  Text(10, 0, '2024-08-06'),\n",
       "  Text(11, 0, '2024-08-07'),\n",
       "  Text(12, 0, '2024-08-08'),\n",
       "  Text(13, 0, '2024-08-09'),\n",
       "  Text(14, 0, '2024-08-13'),\n",
       "  Text(15, 0, '2024-08-14'),\n",
       "  Text(16, 0, '2024-08-15'),\n",
       "  Text(17, 0, '2024-08-16'),\n",
       "  Text(18, 0, '2024-08-20'),\n",
       "  Text(19, 0, '2024-08-21'),\n",
       "  Text(20, 0, '2024-08-22'),\n",
       "  Text(21, 0, '2024-08-23')])"
      ]
     },
     "execution_count": 83,
     "metadata": {},
     "output_type": "execute_result"
    },
    {
     "data": {
      "image/png": "[encoded data removed]",
      "text/plain": [
       "<Figure size 1500x1000 with 1 Axes>"
      ]
     },
     "metadata": {},
     "output_type": "display_data"
    }
   ],
   "source": [
    "plt.figure(figsize=(15,10))\n",
    "sns.barplot(df, x = 'Date' , y= 'Sentiment' , hue= 'Ticker')\n",
    "plt.xticks(rotation = 45)"
   ]
  },
  {
   "cell_type": "code",
   "execution_count": 74,
   "metadata": {},
   "outputs": [
    {
     "data": {
      "text/plain": [
       "<Axes: >"
      ]
     },
     "execution_count": 74,
     "metadata": {},
     "output_type": "execute_result"
    },
    {
     "data": {
      "image/png": "[encoded data removed]",
      "text/plain": [
       "<Figure size 640x480 with 1 Axes>"
      ]
     },
     "metadata": {},
     "output_type": "display_data"
    }
   ],
   "source": [
    "df['Sentiment'].plot(kind= 'bar')"
   ]
  },
  {
   "cell_type": "code",
   "execution_count": null,
   "metadata": {},
   "outputs": [],
   "source": []
  }
 ],
 "metadata": {
  "kernelspec": {
   "display_name": "Python 3",
   "language": "python",
   "name": "python3"
  },
  "language_info": {
   "codemirror_mode": {
    "name": "ipython",
    "version": 3
   },
   "file_extension": ".py",
   "mimetype": "text/x-python",
   "name": "python",
   "nbconvert_exporter": "python",
   "pygments_lexer": "ipython3",
   "version": "3.12.4"
  }
 },
 "nbformat": 4,
 "nbformat_minor": 2
}
