{
 "cells": [
  {
   "cell_type": "code",
   "execution_count": 1,
   "metadata": {},
   "outputs": [],
   "source": [
    "FINAL_DATA_PATH =  r'D:\\Projects\\Quantum Bits\\News-Impact-on-Stock-Prices-\\Project_data\\output\\final_data.csv'\n",
    "SNT_SCORE_DATA_PATH =  r'D:\\Projects\\Quantum Bits\\News-Impact-on-Stock-Prices-\\Project_data\\output\\sen_score_data.csv'\n",
    "TFIDF_DATA_PATH =  r'D:\\Projects\\Quantum Bits\\News-Impact-on-Stock-Prices-\\Project_data\\output\\TFIDF.csv'\n"
   ]
  },
  {
   "cell_type": "code",
   "execution_count": 2,
   "metadata": {},
   "outputs": [
    {
     "name": "stderr",
     "output_type": "stream",
     "text": [
      "c:\\Users\\DELL\\AppData\\Local\\Programs\\Python\\Python312\\Lib\\site-packages\\tqdm\\auto.py:21: TqdmWarning: IProgress not found. Please update jupyter and ipywidgets. See https://ipywidgets.readthedocs.io/en/stable/user_install.html\n",
      "  from .autonotebook import tqdm as notebook_tqdm\n",
      "[nltk_data] Downloading package stopwords to\n",
      "[nltk_data]     C:\\Users\\DELL\\AppData\\Roaming\\nltk_data...\n",
      "[nltk_data]   Package stopwords is already up-to-date!\n",
      "[nltk_data] Downloading package wordnet to\n",
      "[nltk_data]     C:\\Users\\DELL\\AppData\\Roaming\\nltk_data...\n",
      "[nltk_data]   Package wordnet is already up-to-date!\n",
      "[nltk_data] Downloading package vader_lexicon to\n",
      "[nltk_data]     C:\\Users\\DELL\\AppData\\Roaming\\nltk_data...\n",
      "[nltk_data]   Package vader_lexicon is already up-to-date!\n"
     ]
    },
    {
     "data": {
      "text/plain": [
       "True"
      ]
     },
     "execution_count": 2,
     "metadata": {},
     "output_type": "execute_result"
    }
   ],
   "source": [
    "import re\n",
    "import nltk\n",
    "from nltk.corpus import stopwords\n",
    "from nltk.stem import WordNetLemmatizer\n",
    "from nltk.sentiment.vader import SentimentIntensityAnalyzer\n",
    "import pandas as pd\n",
    "import matplotlib.pyplot as plt\n",
    "import seaborn as sns\n",
    "from transformers import AutoTokenizer , AutoModelForSequenceClassification\n",
    "from scipy.special import softmax\n",
    "# Ensure required NLTK packages are downloaded\n",
    "nltk.download('stopwords')\n",
    "nltk.download('wordnet')\n",
    "nltk.download('vader_lexicon')"
   ]
  },
  {
   "cell_type": "code",
   "execution_count": 3,
   "metadata": {},
   "outputs": [],
   "source": [
    "\n",
    "def preprocess_text(text):\n",
    "    # Convert to lowercase\n",
    "    text = text.lower()\n",
    "    # Remove punctuation and special characters\n",
    "    text = re.sub(r'[^\\w\\s]', '', text)\n",
    "    # Tokenize\n",
    "    tokens = text.split()\n",
    "    # Remove stopwords\n",
    "    tokens = [word for word in tokens if word not in stopwords.words('english')]\n",
    "    # Lemmatize\n",
    "    lemmatizer = WordNetLemmatizer()\n",
    "    tokens = [lemmatizer.lemmatize(word) for word in tokens]\n",
    "    # Join tokens back into a string\n",
    "    return ' '.join(tokens)\n",
    "\n"
   ]
  },
  {
   "cell_type": "markdown",
   "metadata": {},
   "source": [
    "# Text Preprocessing"
   ]
  },
  {
   "cell_type": "code",
   "execution_count": 4,
   "metadata": {},
   "outputs": [],
   "source": [
    "df = pd.read_csv(FINAL_DATA_PATH)"
   ]
  },
  {
   "cell_type": "code",
   "execution_count": 5,
   "metadata": {},
   "outputs": [],
   "source": [
    "df['Processed_Headline'] = df['Headline'].apply(preprocess_text)"
   ]
  },
  {
   "cell_type": "code",
   "execution_count": 6,
   "metadata": {},
   "outputs": [
    {
     "data": {
      "text/html": [
       "<div>\n",
       "<style scoped>\n",
       "    .dataframe tbody tr th:only-of-type {\n",
       "        vertical-align: middle;\n",
       "    }\n",
       "\n",
       "    .dataframe tbody tr th {\n",
       "        vertical-align: top;\n",
       "    }\n",
       "\n",
       "    .dataframe thead th {\n",
       "        text-align: right;\n",
       "    }\n",
       "</style>\n",
       "<table border=\"1\" class=\"dataframe\">\n",
       "  <thead>\n",
       "    <tr style=\"text-align: right;\">\n",
       "      <th></th>\n",
       "      <th>Ticker</th>\n",
       "      <th>Date</th>\n",
       "      <th>Headline</th>\n",
       "      <th>Close</th>\n",
       "      <th>Price_Change</th>\n",
       "      <th>Label</th>\n",
       "      <th>Processed_Headline</th>\n",
       "    </tr>\n",
       "  </thead>\n",
       "  <tbody>\n",
       "    <tr>\n",
       "      <th>0</th>\n",
       "      <td>AAPL</td>\n",
       "      <td>2024-08-28</td>\n",
       "      <td>apple becomes indias largest bluecollar job cr...</td>\n",
       "      <td>226.490005</td>\n",
       "      <td>-1.539993</td>\n",
       "      <td>-1</td>\n",
       "      <td>apple becomes india largest bluecollar job cre...</td>\n",
       "    </tr>\n",
       "    <tr>\n",
       "      <th>1</th>\n",
       "      <td>AAPL</td>\n",
       "      <td>2024-08-29</td>\n",
       "      <td>ipad mini 7 rumored for september launch as cu...</td>\n",
       "      <td>229.789993</td>\n",
       "      <td>3.299988</td>\n",
       "      <td>1</td>\n",
       "      <td>ipad mini 7 rumored september launch current m...</td>\n",
       "    </tr>\n",
       "    <tr>\n",
       "      <th>2</th>\n",
       "      <td>AAPL</td>\n",
       "      <td>2024-08-30</td>\n",
       "      <td>vertex pharmaceutical inc vrtx jim cramers got...</td>\n",
       "      <td>229.000000</td>\n",
       "      <td>-0.789993</td>\n",
       "      <td>-1</td>\n",
       "      <td>vertex pharmaceutical inc vrtx jim cramers got...</td>\n",
       "    </tr>\n",
       "    <tr>\n",
       "      <th>3</th>\n",
       "      <td>AMD</td>\n",
       "      <td>2024-08-20</td>\n",
       "      <td>broadcom inc avgo a tech stock to monitor amid...</td>\n",
       "      <td>156.399994</td>\n",
       "      <td>1.119995</td>\n",
       "      <td>1</td>\n",
       "      <td>broadcom inc avgo tech stock monitor amid mark...</td>\n",
       "    </tr>\n",
       "    <tr>\n",
       "      <th>4</th>\n",
       "      <td>AMD</td>\n",
       "      <td>2024-08-21</td>\n",
       "      <td>jim cramer on advanced micro devices inc amds ...</td>\n",
       "      <td>157.809998</td>\n",
       "      <td>1.410004</td>\n",
       "      <td>1</td>\n",
       "      <td>jim cramer advanced micro device inc amd zt sy...</td>\n",
       "    </tr>\n",
       "    <tr>\n",
       "      <th>...</th>\n",
       "      <td>...</td>\n",
       "      <td>...</td>\n",
       "      <td>...</td>\n",
       "      <td>...</td>\n",
       "      <td>...</td>\n",
       "      <td>...</td>\n",
       "      <td>...</td>\n",
       "    </tr>\n",
       "    <tr>\n",
       "      <th>108</th>\n",
       "      <td>ORCL</td>\n",
       "      <td>2024-08-30</td>\n",
       "      <td>final trades lennar oracle and seagate , exclu...</td>\n",
       "      <td>141.289993</td>\n",
       "      <td>1.869995</td>\n",
       "      <td>1</td>\n",
       "      <td>final trade lennar oracle seagate exclusive ch...</td>\n",
       "    </tr>\n",
       "    <tr>\n",
       "      <th>109</th>\n",
       "      <td>TSLA</td>\n",
       "      <td>2024-08-27</td>\n",
       "      <td>hmgs us ev sales rank second behind tesla tops...</td>\n",
       "      <td>209.210007</td>\n",
       "      <td>-4.000000</td>\n",
       "      <td>-1</td>\n",
       "      <td>hmgs u ev sale rank second behind tesla top 10...</td>\n",
       "    </tr>\n",
       "    <tr>\n",
       "      <th>110</th>\n",
       "      <td>TSLA</td>\n",
       "      <td>2024-08-28</td>\n",
       "      <td>your unrealized gains are safe from bidenharri...</td>\n",
       "      <td>205.750000</td>\n",
       "      <td>-3.460007</td>\n",
       "      <td>-1</td>\n",
       "      <td>unrealized gain safe bidenharris tax proposal ...</td>\n",
       "    </tr>\n",
       "    <tr>\n",
       "      <th>111</th>\n",
       "      <td>TSLA</td>\n",
       "      <td>2024-08-29</td>\n",
       "      <td>10 best car subscription services in usa , elo...</td>\n",
       "      <td>206.279999</td>\n",
       "      <td>0.529999</td>\n",
       "      <td>1</td>\n",
       "      <td>10 best car subscription service usa elon musk...</td>\n",
       "    </tr>\n",
       "    <tr>\n",
       "      <th>112</th>\n",
       "      <td>TSLA</td>\n",
       "      <td>2024-08-30</td>\n",
       "      <td>tesla stock ended a bad week with a good day d...</td>\n",
       "      <td>214.110001</td>\n",
       "      <td>7.830002</td>\n",
       "      <td>1</td>\n",
       "      <td>tesla stock ended bad week good day despite ch...</td>\n",
       "    </tr>\n",
       "  </tbody>\n",
       "</table>\n",
       "<p>113 rows × 7 columns</p>\n",
       "</div>"
      ],
      "text/plain": [
       "    Ticker        Date                                           Headline  \\\n",
       "0     AAPL  2024-08-28  apple becomes indias largest bluecollar job cr...   \n",
       "1     AAPL  2024-08-29  ipad mini 7 rumored for september launch as cu...   \n",
       "2     AAPL  2024-08-30  vertex pharmaceutical inc vrtx jim cramers got...   \n",
       "3      AMD  2024-08-20  broadcom inc avgo a tech stock to monitor amid...   \n",
       "4      AMD  2024-08-21  jim cramer on advanced micro devices inc amds ...   \n",
       "..     ...         ...                                                ...   \n",
       "108   ORCL  2024-08-30  final trades lennar oracle and seagate , exclu...   \n",
       "109   TSLA  2024-08-27  hmgs us ev sales rank second behind tesla tops...   \n",
       "110   TSLA  2024-08-28  your unrealized gains are safe from bidenharri...   \n",
       "111   TSLA  2024-08-29  10 best car subscription services in usa , elo...   \n",
       "112   TSLA  2024-08-30  tesla stock ended a bad week with a good day d...   \n",
       "\n",
       "          Close  Price_Change  Label  \\\n",
       "0    226.490005     -1.539993     -1   \n",
       "1    229.789993      3.299988      1   \n",
       "2    229.000000     -0.789993     -1   \n",
       "3    156.399994      1.119995      1   \n",
       "4    157.809998      1.410004      1   \n",
       "..          ...           ...    ...   \n",
       "108  141.289993      1.869995      1   \n",
       "109  209.210007     -4.000000     -1   \n",
       "110  205.750000     -3.460007     -1   \n",
       "111  206.279999      0.529999      1   \n",
       "112  214.110001      7.830002      1   \n",
       "\n",
       "                                    Processed_Headline  \n",
       "0    apple becomes india largest bluecollar job cre...  \n",
       "1    ipad mini 7 rumored september launch current m...  \n",
       "2    vertex pharmaceutical inc vrtx jim cramers got...  \n",
       "3    broadcom inc avgo tech stock monitor amid mark...  \n",
       "4    jim cramer advanced micro device inc amd zt sy...  \n",
       "..                                                 ...  \n",
       "108  final trade lennar oracle seagate exclusive ch...  \n",
       "109  hmgs u ev sale rank second behind tesla top 10...  \n",
       "110  unrealized gain safe bidenharris tax proposal ...  \n",
       "111  10 best car subscription service usa elon musk...  \n",
       "112  tesla stock ended bad week good day despite ch...  \n",
       "\n",
       "[113 rows x 7 columns]"
      ]
     },
     "execution_count": 6,
     "metadata": {},
     "output_type": "execute_result"
    }
   ],
   "source": [
    "df"
   ]
  },
  {
   "cell_type": "markdown",
   "metadata": {},
   "source": [
    "# Sentiment Analysis"
   ]
  },
  {
   "cell_type": "markdown",
   "metadata": {},
   "source": [
    "VADER scoring is good for short texts and works well with financial news."
   ]
  },
  {
   "cell_type": "code",
   "execution_count": 9,
   "metadata": {},
   "outputs": [],
   "source": [
    "# Initialize VADER sentiment analyzer\n",
    "sid = SentimentIntensityAnalyzer()"
   ]
  },
  {
   "cell_type": "code",
   "execution_count": 10,
   "metadata": {},
   "outputs": [
    {
     "data": {
      "text/html": [
       "<div>\n",
       "<style scoped>\n",
       "    .dataframe tbody tr th:only-of-type {\n",
       "        vertical-align: middle;\n",
       "    }\n",
       "\n",
       "    .dataframe tbody tr th {\n",
       "        vertical-align: top;\n",
       "    }\n",
       "\n",
       "    .dataframe thead th {\n",
       "        text-align: right;\n",
       "    }\n",
       "</style>\n",
       "<table border=\"1\" class=\"dataframe\">\n",
       "  <thead>\n",
       "    <tr style=\"text-align: right;\">\n",
       "      <th></th>\n",
       "      <th>Ticker</th>\n",
       "      <th>Date</th>\n",
       "      <th>Headline</th>\n",
       "      <th>Close</th>\n",
       "      <th>Price_Change</th>\n",
       "      <th>Label</th>\n",
       "      <th>Processed_Headline</th>\n",
       "    </tr>\n",
       "  </thead>\n",
       "  <tbody>\n",
       "    <tr>\n",
       "      <th>0</th>\n",
       "      <td>AAPL</td>\n",
       "      <td>2024-08-28</td>\n",
       "      <td>apple becomes indias largest bluecollar job cr...</td>\n",
       "      <td>226.490005</td>\n",
       "      <td>-1.539993</td>\n",
       "      <td>-1</td>\n",
       "      <td>apple becomes india largest bluecollar job cre...</td>\n",
       "    </tr>\n",
       "    <tr>\n",
       "      <th>1</th>\n",
       "      <td>AAPL</td>\n",
       "      <td>2024-08-29</td>\n",
       "      <td>ipad mini 7 rumored for september launch as cu...</td>\n",
       "      <td>229.789993</td>\n",
       "      <td>3.299988</td>\n",
       "      <td>1</td>\n",
       "      <td>ipad mini 7 rumored september launch current m...</td>\n",
       "    </tr>\n",
       "    <tr>\n",
       "      <th>2</th>\n",
       "      <td>AAPL</td>\n",
       "      <td>2024-08-30</td>\n",
       "      <td>vertex pharmaceutical inc vrtx jim cramers got...</td>\n",
       "      <td>229.000000</td>\n",
       "      <td>-0.789993</td>\n",
       "      <td>-1</td>\n",
       "      <td>vertex pharmaceutical inc vrtx jim cramers got...</td>\n",
       "    </tr>\n",
       "    <tr>\n",
       "      <th>3</th>\n",
       "      <td>AMD</td>\n",
       "      <td>2024-08-20</td>\n",
       "      <td>broadcom inc avgo a tech stock to monitor amid...</td>\n",
       "      <td>156.399994</td>\n",
       "      <td>1.119995</td>\n",
       "      <td>1</td>\n",
       "      <td>broadcom inc avgo tech stock monitor amid mark...</td>\n",
       "    </tr>\n",
       "    <tr>\n",
       "      <th>4</th>\n",
       "      <td>AMD</td>\n",
       "      <td>2024-08-21</td>\n",
       "      <td>jim cramer on advanced micro devices inc amds ...</td>\n",
       "      <td>157.809998</td>\n",
       "      <td>1.410004</td>\n",
       "      <td>1</td>\n",
       "      <td>jim cramer advanced micro device inc amd zt sy...</td>\n",
       "    </tr>\n",
       "  </tbody>\n",
       "</table>\n",
       "</div>"
      ],
      "text/plain": [
       "  Ticker        Date                                           Headline  \\\n",
       "0   AAPL  2024-08-28  apple becomes indias largest bluecollar job cr...   \n",
       "1   AAPL  2024-08-29  ipad mini 7 rumored for september launch as cu...   \n",
       "2   AAPL  2024-08-30  vertex pharmaceutical inc vrtx jim cramers got...   \n",
       "3    AMD  2024-08-20  broadcom inc avgo a tech stock to monitor amid...   \n",
       "4    AMD  2024-08-21  jim cramer on advanced micro devices inc amds ...   \n",
       "\n",
       "        Close  Price_Change  Label  \\\n",
       "0  226.490005     -1.539993     -1   \n",
       "1  229.789993      3.299988      1   \n",
       "2  229.000000     -0.789993     -1   \n",
       "3  156.399994      1.119995      1   \n",
       "4  157.809998      1.410004      1   \n",
       "\n",
       "                                  Processed_Headline  \n",
       "0  apple becomes india largest bluecollar job cre...  \n",
       "1  ipad mini 7 rumored september launch current m...  \n",
       "2  vertex pharmaceutical inc vrtx jim cramers got...  \n",
       "3  broadcom inc avgo tech stock monitor amid mark...  \n",
       "4  jim cramer advanced micro device inc amd zt sy...  "
      ]
     },
     "execution_count": 10,
     "metadata": {},
     "output_type": "execute_result"
    }
   ],
   "source": [
    "df.head()"
   ]
  },
  {
   "cell_type": "code",
   "execution_count": 11,
   "metadata": {},
   "outputs": [],
   "source": [
    "text =  df['Headline'][0]"
   ]
  },
  {
   "cell_type": "code",
   "execution_count": 12,
   "metadata": {},
   "outputs": [
    {
     "data": {
      "text/plain": [
       "'apple becomes indias largest bluecollar job creator , apple pushing enhanced optical zoom for iphones to stay competitive , salesforce ceo on robot sales agents microsofts ai letdowns and big earnings beat , apple introduces aipowered object removal in photos with the latest ios update , one tech tip how to get the most life out of your device , prediction this undertheradar tech stock will outperform nvidia and apple by 2030 , berkshire hathaway cut apple stake to have margin of safety , is apple siri the best ai assistant in 2024 , google revamps controversial ai image generation tool after backlash'"
      ]
     },
     "execution_count": 12,
     "metadata": {},
     "output_type": "execute_result"
    }
   ],
   "source": [
    "text"
   ]
  },
  {
   "cell_type": "code",
   "execution_count": 13,
   "metadata": {},
   "outputs": [
    {
     "data": {
      "text/plain": [
       "{'neg': 0.038, 'neu': 0.877, 'pos': 0.085, 'compound': 0.7003}"
      ]
     },
     "execution_count": 13,
     "metadata": {},
     "output_type": "execute_result"
    }
   ],
   "source": [
    "sid.polarity_scores(text)"
   ]
  },
  {
   "cell_type": "code",
   "execution_count": 14,
   "metadata": {},
   "outputs": [],
   "source": [
    "# Apply VADER\n",
    "df['Sentiment'] = df['Headline'].apply(lambda x: sid.polarity_scores(x)['compound'])"
   ]
  },
  {
   "cell_type": "code",
   "execution_count": 15,
   "metadata": {},
   "outputs": [
    {
     "data": {
      "text/html": [
       "<div>\n",
       "<style scoped>\n",
       "    .dataframe tbody tr th:only-of-type {\n",
       "        vertical-align: middle;\n",
       "    }\n",
       "\n",
       "    .dataframe tbody tr th {\n",
       "        vertical-align: top;\n",
       "    }\n",
       "\n",
       "    .dataframe thead th {\n",
       "        text-align: right;\n",
       "    }\n",
       "</style>\n",
       "<table border=\"1\" class=\"dataframe\">\n",
       "  <thead>\n",
       "    <tr style=\"text-align: right;\">\n",
       "      <th></th>\n",
       "      <th>Ticker</th>\n",
       "      <th>Date</th>\n",
       "      <th>Headline</th>\n",
       "      <th>Close</th>\n",
       "      <th>Price_Change</th>\n",
       "      <th>Label</th>\n",
       "      <th>Processed_Headline</th>\n",
       "      <th>Sentiment</th>\n",
       "    </tr>\n",
       "  </thead>\n",
       "  <tbody>\n",
       "    <tr>\n",
       "      <th>0</th>\n",
       "      <td>AAPL</td>\n",
       "      <td>2024-08-28</td>\n",
       "      <td>apple becomes indias largest bluecollar job cr...</td>\n",
       "      <td>226.490005</td>\n",
       "      <td>-1.539993</td>\n",
       "      <td>-1</td>\n",
       "      <td>apple becomes india largest bluecollar job cre...</td>\n",
       "      <td>0.7003</td>\n",
       "    </tr>\n",
       "    <tr>\n",
       "      <th>1</th>\n",
       "      <td>AAPL</td>\n",
       "      <td>2024-08-29</td>\n",
       "      <td>ipad mini 7 rumored for september launch as cu...</td>\n",
       "      <td>229.789993</td>\n",
       "      <td>3.299988</td>\n",
       "      <td>1</td>\n",
       "      <td>ipad mini 7 rumored september launch current m...</td>\n",
       "      <td>0.9485</td>\n",
       "    </tr>\n",
       "    <tr>\n",
       "      <th>2</th>\n",
       "      <td>AAPL</td>\n",
       "      <td>2024-08-30</td>\n",
       "      <td>vertex pharmaceutical inc vrtx jim cramers got...</td>\n",
       "      <td>229.000000</td>\n",
       "      <td>-0.789993</td>\n",
       "      <td>-1</td>\n",
       "      <td>vertex pharmaceutical inc vrtx jim cramers got...</td>\n",
       "      <td>0.9531</td>\n",
       "    </tr>\n",
       "    <tr>\n",
       "      <th>3</th>\n",
       "      <td>AMD</td>\n",
       "      <td>2024-08-20</td>\n",
       "      <td>broadcom inc avgo a tech stock to monitor amid...</td>\n",
       "      <td>156.399994</td>\n",
       "      <td>1.119995</td>\n",
       "      <td>1</td>\n",
       "      <td>broadcom inc avgo tech stock monitor amid mark...</td>\n",
       "      <td>0.6908</td>\n",
       "    </tr>\n",
       "    <tr>\n",
       "      <th>4</th>\n",
       "      <td>AMD</td>\n",
       "      <td>2024-08-21</td>\n",
       "      <td>jim cramer on advanced micro devices inc amds ...</td>\n",
       "      <td>157.809998</td>\n",
       "      <td>1.410004</td>\n",
       "      <td>1</td>\n",
       "      <td>jim cramer advanced micro device inc amd zt sy...</td>\n",
       "      <td>0.4767</td>\n",
       "    </tr>\n",
       "  </tbody>\n",
       "</table>\n",
       "</div>"
      ],
      "text/plain": [
       "  Ticker        Date                                           Headline  \\\n",
       "0   AAPL  2024-08-28  apple becomes indias largest bluecollar job cr...   \n",
       "1   AAPL  2024-08-29  ipad mini 7 rumored for september launch as cu...   \n",
       "2   AAPL  2024-08-30  vertex pharmaceutical inc vrtx jim cramers got...   \n",
       "3    AMD  2024-08-20  broadcom inc avgo a tech stock to monitor amid...   \n",
       "4    AMD  2024-08-21  jim cramer on advanced micro devices inc amds ...   \n",
       "\n",
       "        Close  Price_Change  Label  \\\n",
       "0  226.490005     -1.539993     -1   \n",
       "1  229.789993      3.299988      1   \n",
       "2  229.000000     -0.789993     -1   \n",
       "3  156.399994      1.119995      1   \n",
       "4  157.809998      1.410004      1   \n",
       "\n",
       "                                  Processed_Headline  Sentiment  \n",
       "0  apple becomes india largest bluecollar job cre...     0.7003  \n",
       "1  ipad mini 7 rumored september launch current m...     0.9485  \n",
       "2  vertex pharmaceutical inc vrtx jim cramers got...     0.9531  \n",
       "3  broadcom inc avgo tech stock monitor amid mark...     0.6908  \n",
       "4  jim cramer advanced micro device inc amd zt sy...     0.4767  "
      ]
     },
     "execution_count": 15,
     "metadata": {},
     "output_type": "execute_result"
    }
   ],
   "source": [
    "df.head()"
   ]
  },
  {
   "cell_type": "code",
   "execution_count": 16,
   "metadata": {},
   "outputs": [
    {
     "data": {
      "image/png": "[encoded data removed]",
      "text/plain": [
       "<Figure size 1500x1000 with 1 Axes>"
      ]
     },
     "metadata": {},
     "output_type": "display_data"
    }
   ],
   "source": [
    "plt.figure(figsize=(15,10))\n",
    "sns.barplot(df, x = 'Date' , y= 'Sentiment' , hue= 'Ticker')\n",
    "plt.xticks(rotation = 45)\n",
    "\n",
    "plt.show()"
   ]
  },
  {
   "cell_type": "code",
   "execution_count": 17,
   "metadata": {},
   "outputs": [
    {
     "data": {
      "text/plain": [
       "<Axes: xlabel='Label'>"
      ]
     },
     "execution_count": 17,
     "metadata": {},
     "output_type": "execute_result"
    },
    {
     "data": {
      "image/png": "[encoded data removed]",
      "text/plain": [
       "<Figure size 640x480 with 1 Axes>"
      ]
     },
     "metadata": {},
     "output_type": "display_data"
    }
   ],
   "source": [
    "df.groupby('Label')['Sentiment'].mean().plot(kind='bar')"
   ]
  },
  {
   "cell_type": "code",
   "execution_count": 18,
   "metadata": {},
   "outputs": [],
   "source": [
    "set_data = df.copy()"
   ]
  },
  {
   "cell_type": "code",
   "execution_count": 20,
   "metadata": {},
   "outputs": [],
   "source": [
    "set_data.to_csv(SNT_SCORE_DATA_PATH , index=False)"
   ]
  },
  {
   "cell_type": "markdown",
   "metadata": {},
   "source": [
    "Based in this info from VADER the news Sentiment don't effect in the stock prices.\n",
    "\n",
    "but VADER uses the bag of word technique, so it measures the sentiment for each word individually, That probably doesn't give accurate results so let's try an advanced technique based on transformers that take the context into account"
   ]
  },
  {
   "cell_type": "markdown",
   "metadata": {},
   "source": [
    "## Roberta Model"
   ]
  },
  {
   "cell_type": "code",
   "execution_count": 23,
   "metadata": {},
   "outputs": [
    {
     "name": "stderr",
     "output_type": "stream",
     "text": [
      "c:\\Users\\DELL\\AppData\\Local\\Programs\\Python\\Python312\\Lib\\site-packages\\huggingface_hub\\file_download.py:159: UserWarning: `huggingface_hub` cache-system uses symlinks by default to efficiently store duplicated files but your machine does not support them in C:\\Users\\DELL\\.cache\\huggingface\\hub\\models--cardiffnlp--twitter-roberta-base-sentiment. Caching files will still work but in a degraded version that might require more space on your disk. This warning can be disabled by setting the `HF_HUB_DISABLE_SYMLINKS_WARNING` environment variable. For more details, see https://huggingface.co/docs/huggingface_hub/how-to-cache#limitations.\n",
      "To support symlinks on Windows, you either need to activate Developer Mode or to run Python as an administrator. In order to see activate developer mode, see this article: https://docs.microsoft.com/en-us/windows/apps/get-started/enable-your-device-for-development\n",
      "  warnings.warn(message)\n",
      "c:\\Users\\DELL\\AppData\\Local\\Programs\\Python\\Python312\\Lib\\site-packages\\transformers\\tokenization_utils_base.py:1601: FutureWarning: `clean_up_tokenization_spaces` was not set. It will be set to `True` by default. This behavior will be depracted in transformers v4.45, and will be then set to `False` by default. For more details check this issue: https://github.com/huggingface/transformers/issues/31884\n",
      "  warnings.warn(\n"
     ]
    }
   ],
   "source": [
    "MODEL = \"cardiffnlp/twitter-roberta-base-sentiment\"\n",
    "\n",
    "tokenizer = AutoTokenizer.from_pretrained(MODEL)\n",
    "model = AutoModelForSequenceClassification.from_pretrained(MODEL)"
   ]
  },
  {
   "cell_type": "code",
   "execution_count": null,
   "metadata": {},
   "outputs": [],
   "source": []
  },
  {
   "cell_type": "code",
   "execution_count": 51,
   "metadata": {},
   "outputs": [
    {
     "data": {
      "text/plain": [
       "{'roberta_neg': 0.06633939,\n",
       " 'roberta_neu': 0.72556937,\n",
       " 'roberta_pos': 0.20809126}"
      ]
     },
     "execution_count": 51,
     "metadata": {},
     "output_type": "execute_result"
    }
   ],
   "source": [
    "text =  df['Headline'][1]\n",
    "\n",
    "encoded_text =  tokenizer(text , return_tensors='pt')\n",
    "output = model(**encoded_text)\n",
    "score =  output[0][0].detach().numpy()\n",
    "score = softmax(score) \n",
    "\n",
    "score_dict = {\n",
    "    'roberta_neg' : score[0],\n",
    "    'roberta_neu' : score[1],\n",
    "    'roberta_pos' : score[2],\n",
    "    \n",
    "}\n",
    "\n",
    "score_dict"
   ]
  },
  {
   "cell_type": "code",
   "execution_count": 52,
   "metadata": {},
   "outputs": [
    {
     "data": {
      "text/plain": [
       "{'neg': 0.018, 'neu': 0.906, 'pos': 0.077, 'compound': 0.9485}"
      ]
     },
     "execution_count": 52,
     "metadata": {},
     "output_type": "execute_result"
    }
   ],
   "source": [
    "sid.polarity_scores(text)"
   ]
  },
  {
   "cell_type": "code",
   "execution_count": null,
   "metadata": {},
   "outputs": [],
   "source": []
  }
 ],
 "metadata": {
  "kernelspec": {
   "display_name": "Python 3",
   "language": "python",
   "name": "python3"
  },
  "language_info": {
   "codemirror_mode": {
    "name": "ipython",
    "version": 3
   },
   "file_extension": ".py",
   "mimetype": "text/x-python",
   "name": "python",
   "nbconvert_exporter": "python",
   "pygments_lexer": "ipython3",
   "version": "3.12.4"
  }
 },
 "nbformat": 4,
 "nbformat_minor": 2
}
